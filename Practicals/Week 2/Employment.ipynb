{
 "cells": [
  {
   "cell_type": "code",
   "execution_count": 4,
   "id": "1097e473",
   "metadata": {},
   "outputs": [],
   "source": [
    "import pandas as pd"
   ]
  },
  {
   "cell_type": "markdown",
   "id": "f0fcc95c",
   "metadata": {},
   "source": [
    "Read source data"
   ]
  },
  {
   "cell_type": "code",
   "execution_count": 7,
   "id": "d70af887",
   "metadata": {},
   "outputs": [],
   "source": [
    "# read in data specifying seperator/delimiter\n",
    "employeeData = pd.read_csv('Source data.csv', sep=';')"
   ]
  },
  {
   "cell_type": "markdown",
   "id": "b6dbba67",
   "metadata": {},
   "source": [
    "Let's check the shape of our data"
   ]
  },
  {
   "cell_type": "code",
   "execution_count": 8,
   "id": "9eb2fb08",
   "metadata": {},
   "outputs": [
    {
     "data": {
      "text/plain": [
       "(64, 6)"
      ]
     },
     "execution_count": 8,
     "metadata": {},
     "output_type": "execute_result"
    }
   ],
   "source": [
    "employeeData.shape"
   ]
  },
  {
   "cell_type": "markdown",
   "id": "bdc5a919",
   "metadata": {},
   "source": [
    "let's inspect the first records"
   ]
  },
  {
   "cell_type": "code",
   "execution_count": 9,
   "id": "cacd6b5c",
   "metadata": {},
   "outputs": [
    {
     "data": {
      "text/html": [
       "<div>\n",
       "<style scoped>\n",
       "    .dataframe tbody tr th:only-of-type {\n",
       "        vertical-align: middle;\n",
       "    }\n",
       "\n",
       "    .dataframe tbody tr th {\n",
       "        vertical-align: top;\n",
       "    }\n",
       "\n",
       "    .dataframe thead th {\n",
       "        text-align: right;\n",
       "    }\n",
       "</style>\n",
       "<table border=\"1\" class=\"dataframe\">\n",
       "  <thead>\n",
       "    <tr style=\"text-align: right;\">\n",
       "      <th></th>\n",
       "      <th>Person</th>\n",
       "      <th>Nationality</th>\n",
       "      <th>Rate</th>\n",
       "      <th>Availability</th>\n",
       "      <th>Certification</th>\n",
       "      <th>Language</th>\n",
       "    </tr>\n",
       "  </thead>\n",
       "  <tbody>\n",
       "    <tr>\n",
       "      <th>0</th>\n",
       "      <td>1.0</td>\n",
       "      <td>EU</td>\n",
       "      <td>$300,00</td>\n",
       "      <td>Q1</td>\n",
       "      <td>2.0</td>\n",
       "      <td>E</td>\n",
       "    </tr>\n",
       "    <tr>\n",
       "      <th>1</th>\n",
       "      <td>2.0</td>\n",
       "      <td>Non-EU</td>\n",
       "      <td>$700,00</td>\n",
       "      <td>Q2</td>\n",
       "      <td>1.0</td>\n",
       "      <td>F</td>\n",
       "    </tr>\n",
       "    <tr>\n",
       "      <th>2</th>\n",
       "      <td>3.0</td>\n",
       "      <td>EU</td>\n",
       "      <td>$830,00</td>\n",
       "      <td>Q2</td>\n",
       "      <td>3.0</td>\n",
       "      <td>G</td>\n",
       "    </tr>\n",
       "    <tr>\n",
       "      <th>3</th>\n",
       "      <td>4.0</td>\n",
       "      <td>EU</td>\n",
       "      <td>$760,00</td>\n",
       "      <td>Q3</td>\n",
       "      <td>3.0</td>\n",
       "      <td>F</td>\n",
       "    </tr>\n",
       "    <tr>\n",
       "      <th>4</th>\n",
       "      <td>5.0</td>\n",
       "      <td>EU</td>\n",
       "      <td>$840,00</td>\n",
       "      <td>Q4</td>\n",
       "      <td>4.0</td>\n",
       "      <td>G</td>\n",
       "    </tr>\n",
       "  </tbody>\n",
       "</table>\n",
       "</div>"
      ],
      "text/plain": [
       "   Person Nationality       Rate Availability  Certification Language\n",
       "0     1.0          EU   $300,00           Q1             2.0        E\n",
       "1     2.0      Non-EU   $700,00           Q2             1.0        F\n",
       "2     3.0          EU   $830,00           Q2             3.0        G\n",
       "3     4.0          EU   $760,00           Q3             3.0        F\n",
       "4     5.0          EU   $840,00           Q4             4.0        G"
      ]
     },
     "execution_count": 9,
     "metadata": {},
     "output_type": "execute_result"
    }
   ],
   "source": [
    "employeeData.head()"
   ]
  },
  {
   "cell_type": "markdown",
   "id": "f2c6dc82",
   "metadata": {},
   "source": [
    "Let's have more edtails about the data and the data types"
   ]
  },
  {
   "cell_type": "code",
   "execution_count": 10,
   "id": "11295ddc",
   "metadata": {},
   "outputs": [
    {
     "name": "stdout",
     "output_type": "stream",
     "text": [
      "<class 'pandas.core.frame.DataFrame'>\n",
      "RangeIndex: 64 entries, 0 to 63\n",
      "Data columns (total 6 columns):\n",
      " #   Column         Non-Null Count  Dtype  \n",
      "---  ------         --------------  -----  \n",
      " 0   Person         60 non-null     float64\n",
      " 1   Nationality    60 non-null     object \n",
      " 2   Rate           60 non-null     object \n",
      " 3   Availability   60 non-null     object \n",
      " 4   Certification  60 non-null     float64\n",
      " 5   Language       60 non-null     object \n",
      "dtypes: float64(2), object(4)\n",
      "memory usage: 3.1+ KB\n"
     ]
    }
   ],
   "source": [
    "employeeData.info()"
   ]
  },
  {
   "cell_type": "markdown",
   "id": "7059f4ff",
   "metadata": {},
   "source": [
    "We have loaded the data but let's save to be sure of the format (Python portability) "
   ]
  },
  {
   "cell_type": "code",
   "execution_count": 11,
   "id": "04b36f60",
   "metadata": {},
   "outputs": [],
   "source": [
    "ReformattedData = employeeData"
   ]
  },
  {
   "cell_type": "markdown",
   "id": "c9c6e391",
   "metadata": {},
   "source": [
    "Loaded the data"
   ]
  },
  {
   "cell_type": "code",
   "execution_count": 12,
   "id": "1c2e3ec5",
   "metadata": {},
   "outputs": [],
   "source": [
    "ReformattedData.to_csv('../ReformattedEmployeeData.csv', index=False)"
   ]
  },
  {
   "cell_type": "markdown",
   "id": "4839f82b",
   "metadata": {},
   "source": [
    "In the source system, “Nationality” indicates someone’s nationality, and is offered with two values: “EU” and “non-EU”, while in the target system the data concerning “Nationality” is to be offered only as “EU”. In the data transformation phase this value is not affected. "
   ]
  },
  {
   "cell_type": "markdown",
   "id": "c75af15b",
   "metadata": {},
   "source": [
    "Just for interest, let's check the different unique values of the rates"
   ]
  },
  {
   "cell_type": "code",
   "execution_count": 13,
   "id": "5718b969",
   "metadata": {},
   "outputs": [
    {
     "data": {
      "text/plain": [
       "count            60\n",
       "unique           20\n",
       "top        $300,00 \n",
       "freq              5\n",
       "Name: Rate, dtype: object"
      ]
     },
     "execution_count": 13,
     "metadata": {},
     "output_type": "execute_result"
    }
   ],
   "source": [
    "employeeData['Rate'].describe()"
   ]
  },
  {
   "cell_type": "code",
   "execution_count": 14,
   "id": "cee371a0",
   "metadata": {},
   "outputs": [
    {
     "data": {
      "text/plain": [
       "array([' $300,00 ', ' $700,00 ', ' $830,00 ', ' $760,00 ', ' $840,00 ',\n",
       "       ' $1.200,00 ', ' $1.100,00 ', ' $930,00 ', ' $500,00 ',\n",
       "       ' $535,00 ', ' $600,00 ', ' $725,00 ', ' $620,00 ', ' $120,00 ',\n",
       "       ' $288,00 ', ' $330,00 ', ' $410,00 ', ' $400,00 ', ' $510,00 ',\n",
       "       ' $520,00 ', nan], dtype=object)"
      ]
     },
     "execution_count": 14,
     "metadata": {},
     "output_type": "execute_result"
    }
   ],
   "source": [
    "employeeData['Rate'].unique()"
   ]
  },
  {
   "cell_type": "markdown",
   "id": "fa4d169e",
   "metadata": {},
   "source": [
    "That's a problem - we have 'nan' values (missing data). So data needs to be cleaned. Let's start by assigning the new headings (before clearning). We will replace the souce data headngs with the new ones. But that does not mean that we have dealt with the data transformation yet of course!"
   ]
  },
  {
   "cell_type": "code",
   "execution_count": 62,
   "id": "8f4e61e4",
   "metadata": {},
   "outputs": [],
   "source": [
    "NewEmployeeData = employeeData.rename(columns={'Rate':'Salary','Availability':'Period','Certification':'Level','Language':'Communication'})\n",
    "            "
   ]
  },
  {
   "cell_type": "markdown",
   "id": "1a59cfb8",
   "metadata": {},
   "source": [
    "Let's have a look to see if our new headings are OK. Note, we leave 'PartTime' aside for the moment, as this was not part of the source data. "
   ]
  },
  {
   "cell_type": "code",
   "execution_count": 63,
   "id": "29e0e5f8",
   "metadata": {},
   "outputs": [
    {
     "data": {
      "text/html": [
       "<div>\n",
       "<style scoped>\n",
       "    .dataframe tbody tr th:only-of-type {\n",
       "        vertical-align: middle;\n",
       "    }\n",
       "\n",
       "    .dataframe tbody tr th {\n",
       "        vertical-align: top;\n",
       "    }\n",
       "\n",
       "    .dataframe thead th {\n",
       "        text-align: right;\n",
       "    }\n",
       "</style>\n",
       "<table border=\"1\" class=\"dataframe\">\n",
       "  <thead>\n",
       "    <tr style=\"text-align: right;\">\n",
       "      <th></th>\n",
       "      <th>Person</th>\n",
       "      <th>Nationality</th>\n",
       "      <th>Salary</th>\n",
       "      <th>Period</th>\n",
       "      <th>Level</th>\n",
       "      <th>Communication</th>\n",
       "    </tr>\n",
       "  </thead>\n",
       "  <tbody>\n",
       "    <tr>\n",
       "      <th>0</th>\n",
       "      <td>1.0</td>\n",
       "      <td>EU</td>\n",
       "      <td>$300,00</td>\n",
       "      <td>Q1</td>\n",
       "      <td>2.0</td>\n",
       "      <td>E</td>\n",
       "    </tr>\n",
       "    <tr>\n",
       "      <th>1</th>\n",
       "      <td>2.0</td>\n",
       "      <td>Non-EU</td>\n",
       "      <td>$700,00</td>\n",
       "      <td>Q2</td>\n",
       "      <td>1.0</td>\n",
       "      <td>F</td>\n",
       "    </tr>\n",
       "    <tr>\n",
       "      <th>2</th>\n",
       "      <td>3.0</td>\n",
       "      <td>EU</td>\n",
       "      <td>$830,00</td>\n",
       "      <td>Q2</td>\n",
       "      <td>3.0</td>\n",
       "      <td>G</td>\n",
       "    </tr>\n",
       "    <tr>\n",
       "      <th>3</th>\n",
       "      <td>4.0</td>\n",
       "      <td>EU</td>\n",
       "      <td>$760,00</td>\n",
       "      <td>Q3</td>\n",
       "      <td>3.0</td>\n",
       "      <td>F</td>\n",
       "    </tr>\n",
       "    <tr>\n",
       "      <th>4</th>\n",
       "      <td>5.0</td>\n",
       "      <td>EU</td>\n",
       "      <td>$840,00</td>\n",
       "      <td>Q4</td>\n",
       "      <td>4.0</td>\n",
       "      <td>G</td>\n",
       "    </tr>\n",
       "  </tbody>\n",
       "</table>\n",
       "</div>"
      ],
      "text/plain": [
       "   Person Nationality     Salary Period  Level Communication\n",
       "0     1.0          EU   $300,00     Q1     2.0             E\n",
       "1     2.0      Non-EU   $700,00     Q2     1.0             F\n",
       "2     3.0          EU   $830,00     Q2     3.0             G\n",
       "3     4.0          EU   $760,00     Q3     3.0             F\n",
       "4     5.0          EU   $840,00     Q4     4.0             G"
      ]
     },
     "execution_count": 63,
     "metadata": {},
     "output_type": "execute_result"
    }
   ],
   "source": [
    "NewEmployeeData.head()"
   ]
  },
  {
   "cell_type": "markdown",
   "id": "563313c8",
   "metadata": {},
   "source": [
    "That's good. We have the correct target headings now. Let's check the data. "
   ]
  },
  {
   "cell_type": "code",
   "execution_count": 64,
   "id": "38b72769",
   "metadata": {},
   "outputs": [
    {
     "name": "stdout",
     "output_type": "stream",
     "text": [
      "    Person Nationality     Salary Period  Level Communication\n",
      "0      1.0          EU   $300,00     Q1     2.0             E\n",
      "1      2.0      Non-EU   $700,00     Q2     1.0             F\n",
      "2      3.0          EU   $830,00     Q2     3.0             G\n",
      "3      4.0          EU   $760,00     Q3     3.0             F\n",
      "4      5.0          EU   $840,00     Q4     4.0             G\n",
      "..     ...         ...        ...    ...    ...           ...\n",
      "59    60.0          EU   $520,00     Q4     1.0             G\n",
      "60     NaN         NaN        NaN    NaN    NaN           NaN\n",
      "61     NaN         NaN        NaN    NaN    NaN           NaN\n",
      "62     NaN         NaN        NaN    NaN    NaN           NaN\n",
      "63     NaN         NaN        NaN    NaN    NaN           NaN\n",
      "\n",
      "[64 rows x 6 columns]\n"
     ]
    }
   ],
   "source": [
    "print (NewEmployeeData)"
   ]
  },
  {
   "cell_type": "markdown",
   "id": "afd5ea55",
   "metadata": {},
   "source": [
    "Rows 60 and over do not contain valid data, so they should be filtered out"
   ]
  },
  {
   "cell_type": "markdown",
   "id": "416bbcb7",
   "metadata": {},
   "source": [
    "The code below will return rows without NaN"
   ]
  },
  {
   "cell_type": "code",
   "execution_count": 65,
   "id": "f3b9cc7c",
   "metadata": {},
   "outputs": [],
   "source": [
    "NewEmployeeData = NewEmployeeData[NewEmployeeData.notna().any(axis=1)]"
   ]
  },
  {
   "cell_type": "markdown",
   "id": "485c436a",
   "metadata": {},
   "source": [
    "Let's check the shape of the updated employee data frame"
   ]
  },
  {
   "cell_type": "code",
   "execution_count": 66,
   "id": "4c4b8f18",
   "metadata": {},
   "outputs": [
    {
     "data": {
      "text/plain": [
       "(60, 6)"
      ]
     },
     "execution_count": 66,
     "metadata": {},
     "output_type": "execute_result"
    }
   ],
   "source": [
    "NewEmployeeData.shape"
   ]
  },
  {
   "cell_type": "markdown",
   "id": "e570ec39",
   "metadata": {},
   "source": [
    "This looks correct. Indeed looking at the data below, we don't have any more NaN values"
   ]
  },
  {
   "cell_type": "code",
   "execution_count": 67,
   "id": "b0840e5a",
   "metadata": {},
   "outputs": [
    {
     "name": "stdout",
     "output_type": "stream",
     "text": [
      "    Person Nationality       Salary Period  Level Communication\n",
      "0      1.0          EU     $300,00     Q1     2.0             E\n",
      "1      2.0      Non-EU     $700,00     Q2     1.0             F\n",
      "2      3.0          EU     $830,00     Q2     3.0             G\n",
      "3      4.0          EU     $760,00     Q3     3.0             F\n",
      "4      5.0          EU     $840,00     Q4     4.0             G\n",
      "5      6.0          EU   $1.200,00     Q1     5.0             E\n",
      "6      7.0      Non-EU   $1.100,00     Q3     5.0             O\n",
      "7      8.0      Non-EU     $930,00     Q4     5.0             O\n",
      "8      9.0      Non-EU     $500,00     Q3     4.0             O\n",
      "9     10.0          EU     $535,00     Q2     1.0             E\n",
      "10    11.0      Non-EU     $600,00     Q1     2.0             O\n",
      "11    12.0      Non-EU     $725,00     Q2     3.0             O\n",
      "12    13.0      Non-EU     $600,00     Q3     3.0             O\n",
      "13    14.0          EU     $620,00     Q1     4.0             G\n",
      "14    15.0          EU     $300,00     Q3     5.0             G\n",
      "15    16.0          EU     $700,00     Q4     5.0             F\n",
      "16    17.0          EU     $830,00     Q4     5.0             E\n",
      "17    18.0          EU     $760,00     Q4     4.0             E\n",
      "18    19.0      Non-EU     $840,00     Q2     3.0             O\n",
      "19    20.0          EU   $1.200,00     Q1     2.0             E\n",
      "20    21.0      Non-EU   $1.100,00     Q2     3.0             O\n",
      "21    22.0          EU     $930,00     Q3     3.0             E\n",
      "22    23.0          EU     $500,00     Q3     3.0             E\n",
      "23    24.0          EU     $535,00     Q2     5.0             F\n",
      "24    25.0          EU     $840,00     Q3     4.0             G\n",
      "25    26.0      Non-EU   $1.200,00     Q1     5.0             O\n",
      "26    27.0      Non-EU   $1.100,00     Q3     2.0             O\n",
      "27    28.0          EU     $930,00     Q4     5.0             E\n",
      "28    29.0      Non-EU     $500,00     Q2     5.0             O\n",
      "29    30.0      Non-EU     $535,00     Q4     5.0             O\n",
      "30    31.0          EU     $600,00     Q1     4.0             G\n",
      "31    32.0          EU     $725,00     Q2     1.0             G\n",
      "32    33.0          EU     $600,00     Q3     2.0             O\n",
      "33    34.0      Non-EU     $620,00     Q1     2.0             O\n",
      "34    35.0          EU     $300,00     Q1     2.0             O\n",
      "35    36.0          EU     $700,00     Q1     3.0             G\n",
      "36    37.0          EU     $830,00     Q1     3.0             G\n",
      "37    38.0          EU     $760,00     Q2     4.0             F\n",
      "38    39.0          EU     $840,00     Q3     5.0             E\n",
      "39    40.0      Non-EU   $1.200,00     Q2     5.0             E\n",
      "40    41.0          EU     $600,00     Q4     5.0             O\n",
      "41    42.0          EU     $620,00     Q4     4.0             E\n",
      "42    43.0      Non-EU     $300,00     Q4     3.0             O\n",
      "43    44.0      Non-EU     $700,00     Q4     2.0             O\n",
      "44    45.0      Non-EU     $830,00     Q2     3.0             O\n",
      "45    46.0          EU     $760,00     Q1     3.0             O\n",
      "46    47.0          EU     $840,00     Q2     3.0             O\n",
      "47    48.0          EU     $120,00     Q3     4.0             G\n",
      "48    49.0          EU   $1.100,00     Q1     2.0             G\n",
      "49    50.0          EU     $930,00     Q3     3.0             O\n",
      "50    51.0      Non-EU     $500,00     Q4     4.0             G\n",
      "51    52.0          EU     $535,00     Q3     2.0             O\n",
      "52    53.0      Non-EU     $288,00     Q2     2.0             O\n",
      "53    54.0          EU     $330,00     Q1     5.0             G\n",
      "54    55.0          EU     $410,00     Q2     4.0             F\n",
      "55    56.0          EU     $400,00     Q3     2.0             E\n",
      "56    57.0          EU     $300,00     Q1     3.0             E\n",
      "57    58.0      Non-EU     $400,00     Q3     4.0             O\n",
      "58    59.0      Non-EU     $510,00     Q4     5.0             O\n",
      "59    60.0          EU     $520,00     Q4     1.0             G\n"
     ]
    }
   ],
   "source": [
    "print(NewEmployeeData)"
   ]
  },
  {
   "cell_type": "markdown",
   "id": "85db59eb",
   "metadata": {},
   "source": [
    "That's good. We can progress with the clean data now. Let's convert the rate to salary first. "
   ]
  },
  {
   "cell_type": "markdown",
   "id": "3b26824f",
   "metadata": {},
   "source": [
    "We will not be able to process salary data unless we covnert them to numbers. Notice below that these are objects (strings)"
   ]
  },
  {
   "cell_type": "code",
   "execution_count": 68,
   "id": "52dadfc3",
   "metadata": {},
   "outputs": [
    {
     "data": {
      "text/plain": [
       "0     $300,00 \n",
       "1     $700,00 \n",
       "2     $830,00 \n",
       "3     $760,00 \n",
       "4     $840,00 \n",
       "Name: Salary, dtype: object"
      ]
     },
     "execution_count": 68,
     "metadata": {},
     "output_type": "execute_result"
    }
   ],
   "source": [
    "NewEmployeeData['Salary'].head()"
   ]
  },
  {
   "cell_type": "markdown",
   "id": "95b81aa5",
   "metadata": {},
   "source": [
    "Let's define our conversion rate from dollars to euros and then add the conversion column; multiplying vector with scalar values won't do but pair-wise multipliation of vectors will do. "
   ]
  },
  {
   "cell_type": "code",
   "execution_count": 69,
   "id": "a688c069",
   "metadata": {},
   "outputs": [],
   "source": [
    "NewEmployeeData['Conversion']='0.9'"
   ]
  },
  {
   "cell_type": "code",
   "execution_count": 70,
   "id": "0bcc3623",
   "metadata": {},
   "outputs": [
    {
     "data": {
      "text/html": [
       "<div>\n",
       "<style scoped>\n",
       "    .dataframe tbody tr th:only-of-type {\n",
       "        vertical-align: middle;\n",
       "    }\n",
       "\n",
       "    .dataframe tbody tr th {\n",
       "        vertical-align: top;\n",
       "    }\n",
       "\n",
       "    .dataframe thead th {\n",
       "        text-align: right;\n",
       "    }\n",
       "</style>\n",
       "<table border=\"1\" class=\"dataframe\">\n",
       "  <thead>\n",
       "    <tr style=\"text-align: right;\">\n",
       "      <th></th>\n",
       "      <th>Person</th>\n",
       "      <th>Nationality</th>\n",
       "      <th>Salary</th>\n",
       "      <th>Period</th>\n",
       "      <th>Level</th>\n",
       "      <th>Communication</th>\n",
       "      <th>Conversion</th>\n",
       "    </tr>\n",
       "  </thead>\n",
       "  <tbody>\n",
       "    <tr>\n",
       "      <th>0</th>\n",
       "      <td>1.0</td>\n",
       "      <td>EU</td>\n",
       "      <td>$300,00</td>\n",
       "      <td>Q1</td>\n",
       "      <td>2.0</td>\n",
       "      <td>E</td>\n",
       "      <td>0.9</td>\n",
       "    </tr>\n",
       "    <tr>\n",
       "      <th>1</th>\n",
       "      <td>2.0</td>\n",
       "      <td>Non-EU</td>\n",
       "      <td>$700,00</td>\n",
       "      <td>Q2</td>\n",
       "      <td>1.0</td>\n",
       "      <td>F</td>\n",
       "      <td>0.9</td>\n",
       "    </tr>\n",
       "    <tr>\n",
       "      <th>2</th>\n",
       "      <td>3.0</td>\n",
       "      <td>EU</td>\n",
       "      <td>$830,00</td>\n",
       "      <td>Q2</td>\n",
       "      <td>3.0</td>\n",
       "      <td>G</td>\n",
       "      <td>0.9</td>\n",
       "    </tr>\n",
       "    <tr>\n",
       "      <th>3</th>\n",
       "      <td>4.0</td>\n",
       "      <td>EU</td>\n",
       "      <td>$760,00</td>\n",
       "      <td>Q3</td>\n",
       "      <td>3.0</td>\n",
       "      <td>F</td>\n",
       "      <td>0.9</td>\n",
       "    </tr>\n",
       "    <tr>\n",
       "      <th>4</th>\n",
       "      <td>5.0</td>\n",
       "      <td>EU</td>\n",
       "      <td>$840,00</td>\n",
       "      <td>Q4</td>\n",
       "      <td>4.0</td>\n",
       "      <td>G</td>\n",
       "      <td>0.9</td>\n",
       "    </tr>\n",
       "  </tbody>\n",
       "</table>\n",
       "</div>"
      ],
      "text/plain": [
       "   Person Nationality     Salary Period  Level Communication Conversion\n",
       "0     1.0          EU   $300,00     Q1     2.0             E        0.9\n",
       "1     2.0      Non-EU   $700,00     Q2     1.0             F        0.9\n",
       "2     3.0          EU   $830,00     Q2     3.0             G        0.9\n",
       "3     4.0          EU   $760,00     Q3     3.0             F        0.9\n",
       "4     5.0          EU   $840,00     Q4     4.0             G        0.9"
      ]
     },
     "execution_count": 70,
     "metadata": {},
     "output_type": "execute_result"
    }
   ],
   "source": [
    "NewEmployeeData.head()"
   ]
  },
  {
   "cell_type": "code",
   "execution_count": 71,
   "id": "32721ae1",
   "metadata": {},
   "outputs": [
    {
     "data": {
      "text/plain": [
       "Person           float64\n",
       "Nationality       object\n",
       "Salary            object\n",
       "Period            object\n",
       "Level            float64\n",
       "Communication     object\n",
       "Conversion        object\n",
       "dtype: object"
      ]
     },
     "execution_count": 71,
     "metadata": {},
     "output_type": "execute_result"
    }
   ],
   "source": [
    "NewEmployeeData.dtypes"
   ]
  },
  {
   "cell_type": "markdown",
   "id": "6f7e1ecb",
   "metadata": {},
   "source": [
    "Salaries are not numbers (float) yet. let's convert them to numbers. But watch out: we need to take out the $ symbol, so while we convert them to numbers as excercise, we go back to strings to take out the symbol - we need a number without the symbol for applying multiplication. "
   ]
  },
  {
   "cell_type": "code",
   "execution_count": 72,
   "id": "1e505534",
   "metadata": {},
   "outputs": [],
   "source": [
    "NewEmployeeData['Conversion']=NewEmployeeData['Conversion'].astype('float64')"
   ]
  },
  {
   "cell_type": "code",
   "execution_count": 73,
   "id": "c67c35fb",
   "metadata": {},
   "outputs": [],
   "source": [
    "NewEmployeeData['Salary']=NewEmployeeData['Salary'].astype('str')"
   ]
  },
  {
   "cell_type": "code",
   "execution_count": 74,
   "id": "b21706d5",
   "metadata": {},
   "outputs": [
    {
     "data": {
      "text/plain": [
       "Person           float64\n",
       "Nationality       object\n",
       "Salary            object\n",
       "Period            object\n",
       "Level            float64\n",
       "Communication     object\n",
       "Conversion       float64\n",
       "dtype: object"
      ]
     },
     "execution_count": 74,
     "metadata": {},
     "output_type": "execute_result"
    }
   ],
   "source": [
    "NewEmployeeData.dtypes"
   ]
  },
  {
   "cell_type": "code",
   "execution_count": 75,
   "id": "f224d2ac",
   "metadata": {},
   "outputs": [
    {
     "name": "stderr",
     "output_type": "stream",
     "text": [
      "C:\\Users\\P301449\\AppData\\Local\\Temp\\13/ipykernel_8992/1964421653.py:1: FutureWarning: The default value of regex will change from True to False in a future version. In addition, single character regular expressions will *not* be treated as literal strings when regex=True.\n",
      "  NewEmployeeData['Salary'] = NewEmployeeData['Salary'].str.replace('$','')\n"
     ]
    }
   ],
   "source": [
    "NewEmployeeData['Salary'] = NewEmployeeData['Salary'].str.replace('$','')"
   ]
  },
  {
   "cell_type": "code",
   "execution_count": 76,
   "id": "565af061",
   "metadata": {
    "scrolled": true
   },
   "outputs": [
    {
     "data": {
      "text/html": [
       "<div>\n",
       "<style scoped>\n",
       "    .dataframe tbody tr th:only-of-type {\n",
       "        vertical-align: middle;\n",
       "    }\n",
       "\n",
       "    .dataframe tbody tr th {\n",
       "        vertical-align: top;\n",
       "    }\n",
       "\n",
       "    .dataframe thead th {\n",
       "        text-align: right;\n",
       "    }\n",
       "</style>\n",
       "<table border=\"1\" class=\"dataframe\">\n",
       "  <thead>\n",
       "    <tr style=\"text-align: right;\">\n",
       "      <th></th>\n",
       "      <th>Person</th>\n",
       "      <th>Nationality</th>\n",
       "      <th>Salary</th>\n",
       "      <th>Period</th>\n",
       "      <th>Level</th>\n",
       "      <th>Communication</th>\n",
       "      <th>Conversion</th>\n",
       "    </tr>\n",
       "  </thead>\n",
       "  <tbody>\n",
       "    <tr>\n",
       "      <th>0</th>\n",
       "      <td>1.0</td>\n",
       "      <td>EU</td>\n",
       "      <td>300,00</td>\n",
       "      <td>Q1</td>\n",
       "      <td>2.0</td>\n",
       "      <td>E</td>\n",
       "      <td>0.9</td>\n",
       "    </tr>\n",
       "    <tr>\n",
       "      <th>1</th>\n",
       "      <td>2.0</td>\n",
       "      <td>Non-EU</td>\n",
       "      <td>700,00</td>\n",
       "      <td>Q2</td>\n",
       "      <td>1.0</td>\n",
       "      <td>F</td>\n",
       "      <td>0.9</td>\n",
       "    </tr>\n",
       "    <tr>\n",
       "      <th>2</th>\n",
       "      <td>3.0</td>\n",
       "      <td>EU</td>\n",
       "      <td>830,00</td>\n",
       "      <td>Q2</td>\n",
       "      <td>3.0</td>\n",
       "      <td>G</td>\n",
       "      <td>0.9</td>\n",
       "    </tr>\n",
       "    <tr>\n",
       "      <th>3</th>\n",
       "      <td>4.0</td>\n",
       "      <td>EU</td>\n",
       "      <td>760,00</td>\n",
       "      <td>Q3</td>\n",
       "      <td>3.0</td>\n",
       "      <td>F</td>\n",
       "      <td>0.9</td>\n",
       "    </tr>\n",
       "    <tr>\n",
       "      <th>4</th>\n",
       "      <td>5.0</td>\n",
       "      <td>EU</td>\n",
       "      <td>840,00</td>\n",
       "      <td>Q4</td>\n",
       "      <td>4.0</td>\n",
       "      <td>G</td>\n",
       "      <td>0.9</td>\n",
       "    </tr>\n",
       "  </tbody>\n",
       "</table>\n",
       "</div>"
      ],
      "text/plain": [
       "   Person Nationality    Salary Period  Level Communication  Conversion\n",
       "0     1.0          EU   300,00     Q1     2.0             E         0.9\n",
       "1     2.0      Non-EU   700,00     Q2     1.0             F         0.9\n",
       "2     3.0          EU   830,00     Q2     3.0             G         0.9\n",
       "3     4.0          EU   760,00     Q3     3.0             F         0.9\n",
       "4     5.0          EU   840,00     Q4     4.0             G         0.9"
      ]
     },
     "execution_count": 76,
     "metadata": {},
     "output_type": "execute_result"
    }
   ],
   "source": [
    "NewEmployeeData.head()"
   ]
  },
  {
   "cell_type": "markdown",
   "id": "ae0023eb",
   "metadata": {},
   "source": [
    "So we got rid of the $ symbol in the Salary column"
   ]
  },
  {
   "cell_type": "code",
   "execution_count": 77,
   "id": "1de52bb9",
   "metadata": {},
   "outputs": [
    {
     "name": "stderr",
     "output_type": "stream",
     "text": [
      "C:\\Users\\P301449\\AppData\\Local\\Temp\\13/ipykernel_8992/3248498346.py:1: FutureWarning: The default value of regex will change from True to False in a future version. In addition, single character regular expressions will *not* be treated as literal strings when regex=True.\n",
      "  NewEmployeeData['Salary'] = NewEmployeeData['Salary'].str.replace('.','')\n"
     ]
    }
   ],
   "source": [
    "NewEmployeeData['Salary'] = NewEmployeeData['Salary'].str.replace('.','')"
   ]
  },
  {
   "cell_type": "markdown",
   "id": "e3c01fe7",
   "metadata": {},
   "source": [
    "Now we get rid of the \".\" separator in 1.000 => 1000.\n",
    "Next we bring in the \".\" for the decimal symbol"
   ]
  },
  {
   "cell_type": "code",
   "execution_count": 78,
   "id": "a8e162c5",
   "metadata": {},
   "outputs": [],
   "source": [
    "NewEmployeeData['Salary'] = NewEmployeeData['Salary'].str.replace(',','.')"
   ]
  },
  {
   "cell_type": "code",
   "execution_count": 79,
   "id": "808aa6f3",
   "metadata": {},
   "outputs": [
    {
     "data": {
      "text/html": [
       "<div>\n",
       "<style scoped>\n",
       "    .dataframe tbody tr th:only-of-type {\n",
       "        vertical-align: middle;\n",
       "    }\n",
       "\n",
       "    .dataframe tbody tr th {\n",
       "        vertical-align: top;\n",
       "    }\n",
       "\n",
       "    .dataframe thead th {\n",
       "        text-align: right;\n",
       "    }\n",
       "</style>\n",
       "<table border=\"1\" class=\"dataframe\">\n",
       "  <thead>\n",
       "    <tr style=\"text-align: right;\">\n",
       "      <th></th>\n",
       "      <th>Person</th>\n",
       "      <th>Nationality</th>\n",
       "      <th>Salary</th>\n",
       "      <th>Period</th>\n",
       "      <th>Level</th>\n",
       "      <th>Communication</th>\n",
       "      <th>Conversion</th>\n",
       "    </tr>\n",
       "  </thead>\n",
       "  <tbody>\n",
       "    <tr>\n",
       "      <th>0</th>\n",
       "      <td>1.0</td>\n",
       "      <td>EU</td>\n",
       "      <td>300.00</td>\n",
       "      <td>Q1</td>\n",
       "      <td>2.0</td>\n",
       "      <td>E</td>\n",
       "      <td>0.9</td>\n",
       "    </tr>\n",
       "    <tr>\n",
       "      <th>1</th>\n",
       "      <td>2.0</td>\n",
       "      <td>Non-EU</td>\n",
       "      <td>700.00</td>\n",
       "      <td>Q2</td>\n",
       "      <td>1.0</td>\n",
       "      <td>F</td>\n",
       "      <td>0.9</td>\n",
       "    </tr>\n",
       "    <tr>\n",
       "      <th>2</th>\n",
       "      <td>3.0</td>\n",
       "      <td>EU</td>\n",
       "      <td>830.00</td>\n",
       "      <td>Q2</td>\n",
       "      <td>3.0</td>\n",
       "      <td>G</td>\n",
       "      <td>0.9</td>\n",
       "    </tr>\n",
       "    <tr>\n",
       "      <th>3</th>\n",
       "      <td>4.0</td>\n",
       "      <td>EU</td>\n",
       "      <td>760.00</td>\n",
       "      <td>Q3</td>\n",
       "      <td>3.0</td>\n",
       "      <td>F</td>\n",
       "      <td>0.9</td>\n",
       "    </tr>\n",
       "    <tr>\n",
       "      <th>4</th>\n",
       "      <td>5.0</td>\n",
       "      <td>EU</td>\n",
       "      <td>840.00</td>\n",
       "      <td>Q4</td>\n",
       "      <td>4.0</td>\n",
       "      <td>G</td>\n",
       "      <td>0.9</td>\n",
       "    </tr>\n",
       "  </tbody>\n",
       "</table>\n",
       "</div>"
      ],
      "text/plain": [
       "   Person Nationality    Salary Period  Level Communication  Conversion\n",
       "0     1.0          EU   300.00     Q1     2.0             E         0.9\n",
       "1     2.0      Non-EU   700.00     Q2     1.0             F         0.9\n",
       "2     3.0          EU   830.00     Q2     3.0             G         0.9\n",
       "3     4.0          EU   760.00     Q3     3.0             F         0.9\n",
       "4     5.0          EU   840.00     Q4     4.0             G         0.9"
      ]
     },
     "execution_count": 79,
     "metadata": {},
     "output_type": "execute_result"
    }
   ],
   "source": [
    "NewEmployeeData.head()"
   ]
  },
  {
   "cell_type": "markdown",
   "id": "0933e297",
   "metadata": {},
   "source": [
    "And the Salary number format is now with '.'"
   ]
  },
  {
   "cell_type": "code",
   "execution_count": 80,
   "id": "cb9f1ac2",
   "metadata": {},
   "outputs": [
    {
     "data": {
      "text/plain": [
       "Person           float64\n",
       "Nationality       object\n",
       "Salary            object\n",
       "Period            object\n",
       "Level            float64\n",
       "Communication     object\n",
       "Conversion       float64\n",
       "dtype: object"
      ]
     },
     "execution_count": 80,
     "metadata": {},
     "output_type": "execute_result"
    }
   ],
   "source": [
    "NewEmployeeData.dtypes"
   ]
  },
  {
   "cell_type": "markdown",
   "id": "639f31ff",
   "metadata": {},
   "source": [
    "We can 'force' (coerce) the Salary column to be numeric - see below. We are OK to do so as we have finished with string type processing."
   ]
  },
  {
   "cell_type": "code",
   "execution_count": 81,
   "id": "4f123d50",
   "metadata": {},
   "outputs": [],
   "source": [
    "NewEmployeeData[\"Salary\"] = pd.to_numeric(NewEmployeeData.Salary, errors='coerce')"
   ]
  },
  {
   "cell_type": "code",
   "execution_count": 82,
   "id": "5aaf3f8d",
   "metadata": {},
   "outputs": [
    {
     "data": {
      "text/plain": [
       "Person           float64\n",
       "Nationality       object\n",
       "Salary           float64\n",
       "Period            object\n",
       "Level            float64\n",
       "Communication     object\n",
       "Conversion       float64\n",
       "dtype: object"
      ]
     },
     "execution_count": 82,
     "metadata": {},
     "output_type": "execute_result"
    }
   ],
   "source": [
    "NewEmployeeData.dtypes"
   ]
  },
  {
   "cell_type": "code",
   "execution_count": 83,
   "id": "5b527bed",
   "metadata": {},
   "outputs": [],
   "source": [
    "NewEmployeeData['Salary'] = NewEmployeeData['Salary'] * NewEmployeeData['Conversion']"
   ]
  },
  {
   "cell_type": "markdown",
   "id": "40576910",
   "metadata": {},
   "source": [
    "So now we have been able to do the pair-wise column multiplication for the conversion. Let's have a look at he converted data below. "
   ]
  },
  {
   "cell_type": "code",
   "execution_count": 84,
   "id": "ee6b5db8",
   "metadata": {},
   "outputs": [
    {
     "data": {
      "text/html": [
       "<div>\n",
       "<style scoped>\n",
       "    .dataframe tbody tr th:only-of-type {\n",
       "        vertical-align: middle;\n",
       "    }\n",
       "\n",
       "    .dataframe tbody tr th {\n",
       "        vertical-align: top;\n",
       "    }\n",
       "\n",
       "    .dataframe thead th {\n",
       "        text-align: right;\n",
       "    }\n",
       "</style>\n",
       "<table border=\"1\" class=\"dataframe\">\n",
       "  <thead>\n",
       "    <tr style=\"text-align: right;\">\n",
       "      <th></th>\n",
       "      <th>Person</th>\n",
       "      <th>Nationality</th>\n",
       "      <th>Salary</th>\n",
       "      <th>Period</th>\n",
       "      <th>Level</th>\n",
       "      <th>Communication</th>\n",
       "      <th>Conversion</th>\n",
       "    </tr>\n",
       "  </thead>\n",
       "  <tbody>\n",
       "    <tr>\n",
       "      <th>0</th>\n",
       "      <td>1.0</td>\n",
       "      <td>EU</td>\n",
       "      <td>270.0</td>\n",
       "      <td>Q1</td>\n",
       "      <td>2.0</td>\n",
       "      <td>E</td>\n",
       "      <td>0.9</td>\n",
       "    </tr>\n",
       "    <tr>\n",
       "      <th>1</th>\n",
       "      <td>2.0</td>\n",
       "      <td>Non-EU</td>\n",
       "      <td>630.0</td>\n",
       "      <td>Q2</td>\n",
       "      <td>1.0</td>\n",
       "      <td>F</td>\n",
       "      <td>0.9</td>\n",
       "    </tr>\n",
       "    <tr>\n",
       "      <th>2</th>\n",
       "      <td>3.0</td>\n",
       "      <td>EU</td>\n",
       "      <td>747.0</td>\n",
       "      <td>Q2</td>\n",
       "      <td>3.0</td>\n",
       "      <td>G</td>\n",
       "      <td>0.9</td>\n",
       "    </tr>\n",
       "    <tr>\n",
       "      <th>3</th>\n",
       "      <td>4.0</td>\n",
       "      <td>EU</td>\n",
       "      <td>684.0</td>\n",
       "      <td>Q3</td>\n",
       "      <td>3.0</td>\n",
       "      <td>F</td>\n",
       "      <td>0.9</td>\n",
       "    </tr>\n",
       "    <tr>\n",
       "      <th>4</th>\n",
       "      <td>5.0</td>\n",
       "      <td>EU</td>\n",
       "      <td>756.0</td>\n",
       "      <td>Q4</td>\n",
       "      <td>4.0</td>\n",
       "      <td>G</td>\n",
       "      <td>0.9</td>\n",
       "    </tr>\n",
       "  </tbody>\n",
       "</table>\n",
       "</div>"
      ],
      "text/plain": [
       "   Person Nationality  Salary Period  Level Communication  Conversion\n",
       "0     1.0          EU   270.0    Q1     2.0             E         0.9\n",
       "1     2.0      Non-EU   630.0    Q2     1.0             F         0.9\n",
       "2     3.0          EU   747.0    Q2     3.0             G         0.9\n",
       "3     4.0          EU   684.0    Q3     3.0             F         0.9\n",
       "4     5.0          EU   756.0    Q4     4.0             G         0.9"
      ]
     },
     "execution_count": 84,
     "metadata": {},
     "output_type": "execute_result"
    }
   ],
   "source": [
    "NewEmployeeData.head()"
   ]
  },
  {
   "cell_type": "markdown",
   "id": "a5a81544",
   "metadata": {},
   "source": [
    "Great! We have now converted the salary from Dollars to Euros. We need one more conversion though. The salary is still in hourly rates though. We need to convert it to weekly rate. Assuming that a week has 40 hours, we will simply multiply by 40. We will use a similar approach as with the $ to euro conversion. "
   ]
  },
  {
   "cell_type": "code",
   "execution_count": 85,
   "id": "94c5dde5",
   "metadata": {},
   "outputs": [
    {
     "name": "stdout",
     "output_type": "stream",
     "text": [
      "    Person Nationality  Salary Period  Level Communication  Conversion\n",
      "0      1.0          EU   270.0    Q1     2.0             E         0.9\n",
      "1      2.0      Non-EU   630.0    Q2     1.0             F         0.9\n",
      "2      3.0          EU   747.0    Q2     3.0             G         0.9\n",
      "3      4.0          EU   684.0    Q3     3.0             F         0.9\n",
      "4      5.0          EU   756.0    Q4     4.0             G         0.9\n",
      "5      6.0          EU  1080.0    Q1     5.0             E         0.9\n",
      "6      7.0      Non-EU   990.0    Q3     5.0             O         0.9\n",
      "7      8.0      Non-EU   837.0    Q4     5.0             O         0.9\n",
      "8      9.0      Non-EU   450.0    Q3     4.0             O         0.9\n",
      "9     10.0          EU   481.5    Q2     1.0             E         0.9\n",
      "10    11.0      Non-EU   540.0    Q1     2.0             O         0.9\n",
      "11    12.0      Non-EU   652.5    Q2     3.0             O         0.9\n",
      "12    13.0      Non-EU   540.0    Q3     3.0             O         0.9\n",
      "13    14.0          EU   558.0    Q1     4.0             G         0.9\n",
      "14    15.0          EU   270.0    Q3     5.0             G         0.9\n",
      "15    16.0          EU   630.0    Q4     5.0             F         0.9\n",
      "16    17.0          EU   747.0    Q4     5.0             E         0.9\n",
      "17    18.0          EU   684.0    Q4     4.0             E         0.9\n",
      "18    19.0      Non-EU   756.0    Q2     3.0             O         0.9\n",
      "19    20.0          EU  1080.0    Q1     2.0             E         0.9\n",
      "20    21.0      Non-EU   990.0    Q2     3.0             O         0.9\n",
      "21    22.0          EU   837.0    Q3     3.0             E         0.9\n",
      "22    23.0          EU   450.0    Q3     3.0             E         0.9\n",
      "23    24.0          EU   481.5    Q2     5.0             F         0.9\n",
      "24    25.0          EU   756.0    Q3     4.0             G         0.9\n",
      "25    26.0      Non-EU  1080.0    Q1     5.0             O         0.9\n",
      "26    27.0      Non-EU   990.0    Q3     2.0             O         0.9\n",
      "27    28.0          EU   837.0    Q4     5.0             E         0.9\n",
      "28    29.0      Non-EU   450.0    Q2     5.0             O         0.9\n",
      "29    30.0      Non-EU   481.5    Q4     5.0             O         0.9\n",
      "30    31.0          EU   540.0    Q1     4.0             G         0.9\n",
      "31    32.0          EU   652.5    Q2     1.0             G         0.9\n",
      "32    33.0          EU   540.0    Q3     2.0             O         0.9\n",
      "33    34.0      Non-EU   558.0    Q1     2.0             O         0.9\n",
      "34    35.0          EU   270.0    Q1     2.0             O         0.9\n",
      "35    36.0          EU   630.0    Q1     3.0             G         0.9\n",
      "36    37.0          EU   747.0    Q1     3.0             G         0.9\n",
      "37    38.0          EU   684.0    Q2     4.0             F         0.9\n",
      "38    39.0          EU   756.0    Q3     5.0             E         0.9\n",
      "39    40.0      Non-EU  1080.0    Q2     5.0             E         0.9\n",
      "40    41.0          EU   540.0    Q4     5.0             O         0.9\n",
      "41    42.0          EU   558.0    Q4     4.0             E         0.9\n",
      "42    43.0      Non-EU   270.0    Q4     3.0             O         0.9\n",
      "43    44.0      Non-EU   630.0    Q4     2.0             O         0.9\n",
      "44    45.0      Non-EU   747.0    Q2     3.0             O         0.9\n",
      "45    46.0          EU   684.0    Q1     3.0             O         0.9\n",
      "46    47.0          EU   756.0    Q2     3.0             O         0.9\n",
      "47    48.0          EU   108.0    Q3     4.0             G         0.9\n",
      "48    49.0          EU   990.0    Q1     2.0             G         0.9\n",
      "49    50.0          EU   837.0    Q3     3.0             O         0.9\n",
      "50    51.0      Non-EU   450.0    Q4     4.0             G         0.9\n",
      "51    52.0          EU   481.5    Q3     2.0             O         0.9\n",
      "52    53.0      Non-EU   259.2    Q2     2.0             O         0.9\n",
      "53    54.0          EU   297.0    Q1     5.0             G         0.9\n",
      "54    55.0          EU   369.0    Q2     4.0             F         0.9\n",
      "55    56.0          EU   360.0    Q3     2.0             E         0.9\n",
      "56    57.0          EU   270.0    Q1     3.0             E         0.9\n",
      "57    58.0      Non-EU   360.0    Q3     4.0             O         0.9\n",
      "58    59.0      Non-EU   459.0    Q4     5.0             O         0.9\n",
      "59    60.0          EU   468.0    Q4     1.0             G         0.9\n"
     ]
    }
   ],
   "source": [
    "print(NewEmployeeData)"
   ]
  },
  {
   "cell_type": "code",
   "execution_count": 86,
   "id": "d8d8c0c2",
   "metadata": {},
   "outputs": [
    {
     "data": {
      "text/html": [
       "<div>\n",
       "<style scoped>\n",
       "    .dataframe tbody tr th:only-of-type {\n",
       "        vertical-align: middle;\n",
       "    }\n",
       "\n",
       "    .dataframe tbody tr th {\n",
       "        vertical-align: top;\n",
       "    }\n",
       "\n",
       "    .dataframe thead th {\n",
       "        text-align: right;\n",
       "    }\n",
       "</style>\n",
       "<table border=\"1\" class=\"dataframe\">\n",
       "  <thead>\n",
       "    <tr style=\"text-align: right;\">\n",
       "      <th></th>\n",
       "      <th>Person</th>\n",
       "      <th>Nationality</th>\n",
       "      <th>Salary</th>\n",
       "      <th>Period</th>\n",
       "      <th>Level</th>\n",
       "      <th>Communication</th>\n",
       "      <th>Conversion</th>\n",
       "    </tr>\n",
       "  </thead>\n",
       "  <tbody>\n",
       "    <tr>\n",
       "      <th>0</th>\n",
       "      <td>1.0</td>\n",
       "      <td>EU</td>\n",
       "      <td>10800.0</td>\n",
       "      <td>Q1</td>\n",
       "      <td>2.0</td>\n",
       "      <td>E</td>\n",
       "      <td>40.0</td>\n",
       "    </tr>\n",
       "    <tr>\n",
       "      <th>1</th>\n",
       "      <td>2.0</td>\n",
       "      <td>Non-EU</td>\n",
       "      <td>25200.0</td>\n",
       "      <td>Q2</td>\n",
       "      <td>1.0</td>\n",
       "      <td>F</td>\n",
       "      <td>40.0</td>\n",
       "    </tr>\n",
       "    <tr>\n",
       "      <th>2</th>\n",
       "      <td>3.0</td>\n",
       "      <td>EU</td>\n",
       "      <td>29880.0</td>\n",
       "      <td>Q2</td>\n",
       "      <td>3.0</td>\n",
       "      <td>G</td>\n",
       "      <td>40.0</td>\n",
       "    </tr>\n",
       "    <tr>\n",
       "      <th>3</th>\n",
       "      <td>4.0</td>\n",
       "      <td>EU</td>\n",
       "      <td>27360.0</td>\n",
       "      <td>Q3</td>\n",
       "      <td>3.0</td>\n",
       "      <td>F</td>\n",
       "      <td>40.0</td>\n",
       "    </tr>\n",
       "    <tr>\n",
       "      <th>4</th>\n",
       "      <td>5.0</td>\n",
       "      <td>EU</td>\n",
       "      <td>30240.0</td>\n",
       "      <td>Q4</td>\n",
       "      <td>4.0</td>\n",
       "      <td>G</td>\n",
       "      <td>40.0</td>\n",
       "    </tr>\n",
       "  </tbody>\n",
       "</table>\n",
       "</div>"
      ],
      "text/plain": [
       "   Person Nationality   Salary Period  Level Communication  Conversion\n",
       "0     1.0          EU  10800.0    Q1     2.0             E        40.0\n",
       "1     2.0      Non-EU  25200.0    Q2     1.0             F        40.0\n",
       "2     3.0          EU  29880.0    Q2     3.0             G        40.0\n",
       "3     4.0          EU  27360.0    Q3     3.0             F        40.0\n",
       "4     5.0          EU  30240.0    Q4     4.0             G        40.0"
      ]
     },
     "execution_count": 86,
     "metadata": {},
     "output_type": "execute_result"
    }
   ],
   "source": [
    "NewEmployeeData['Conversion']='40'\n",
    "NewEmployeeData['Conversion']=NewEmployeeData['Conversion'].astype('float64')\n",
    "NewEmployeeData['Salary'] = NewEmployeeData['Salary'] * NewEmployeeData['Conversion']\n",
    "NewEmployeeData.head(5)"
   ]
  },
  {
   "cell_type": "code",
   "execution_count": 87,
   "id": "8229ea31",
   "metadata": {},
   "outputs": [],
   "source": [
    "NewEmployeeData['Salary'] = NewEmployeeData['Salary'].astype(float)"
   ]
  },
  {
   "cell_type": "markdown",
   "id": "c224cbc6",
   "metadata": {},
   "source": [
    "Our conversion is complete and we have set the data type to numeric (float)"
   ]
  },
  {
   "cell_type": "code",
   "execution_count": 88,
   "id": "94fd1fb9",
   "metadata": {},
   "outputs": [
    {
     "data": {
      "text/plain": [
       "(60, 7)"
      ]
     },
     "execution_count": 88,
     "metadata": {},
     "output_type": "execute_result"
    }
   ],
   "source": [
    "NewEmployeeData.shape"
   ]
  },
  {
   "cell_type": "code",
   "execution_count": 89,
   "id": "c6235773",
   "metadata": {},
   "outputs": [
    {
     "data": {
      "text/html": [
       "<div>\n",
       "<style scoped>\n",
       "    .dataframe tbody tr th:only-of-type {\n",
       "        vertical-align: middle;\n",
       "    }\n",
       "\n",
       "    .dataframe tbody tr th {\n",
       "        vertical-align: top;\n",
       "    }\n",
       "\n",
       "    .dataframe thead th {\n",
       "        text-align: right;\n",
       "    }\n",
       "</style>\n",
       "<table border=\"1\" class=\"dataframe\">\n",
       "  <thead>\n",
       "    <tr style=\"text-align: right;\">\n",
       "      <th></th>\n",
       "      <th>Person</th>\n",
       "      <th>Nationality</th>\n",
       "      <th>Salary</th>\n",
       "      <th>Period</th>\n",
       "      <th>Level</th>\n",
       "      <th>Communication</th>\n",
       "      <th>Conversion</th>\n",
       "    </tr>\n",
       "  </thead>\n",
       "  <tbody>\n",
       "    <tr>\n",
       "      <th>0</th>\n",
       "      <td>1.0</td>\n",
       "      <td>EU</td>\n",
       "      <td>10800.0</td>\n",
       "      <td>Q1</td>\n",
       "      <td>2.0</td>\n",
       "      <td>E</td>\n",
       "      <td>40.0</td>\n",
       "    </tr>\n",
       "    <tr>\n",
       "      <th>1</th>\n",
       "      <td>2.0</td>\n",
       "      <td>Non-EU</td>\n",
       "      <td>25200.0</td>\n",
       "      <td>Q2</td>\n",
       "      <td>1.0</td>\n",
       "      <td>F</td>\n",
       "      <td>40.0</td>\n",
       "    </tr>\n",
       "    <tr>\n",
       "      <th>2</th>\n",
       "      <td>3.0</td>\n",
       "      <td>EU</td>\n",
       "      <td>29880.0</td>\n",
       "      <td>Q2</td>\n",
       "      <td>3.0</td>\n",
       "      <td>G</td>\n",
       "      <td>40.0</td>\n",
       "    </tr>\n",
       "    <tr>\n",
       "      <th>3</th>\n",
       "      <td>4.0</td>\n",
       "      <td>EU</td>\n",
       "      <td>27360.0</td>\n",
       "      <td>Q3</td>\n",
       "      <td>3.0</td>\n",
       "      <td>F</td>\n",
       "      <td>40.0</td>\n",
       "    </tr>\n",
       "    <tr>\n",
       "      <th>4</th>\n",
       "      <td>5.0</td>\n",
       "      <td>EU</td>\n",
       "      <td>30240.0</td>\n",
       "      <td>Q4</td>\n",
       "      <td>4.0</td>\n",
       "      <td>G</td>\n",
       "      <td>40.0</td>\n",
       "    </tr>\n",
       "  </tbody>\n",
       "</table>\n",
       "</div>"
      ],
      "text/plain": [
       "   Person Nationality   Salary Period  Level Communication  Conversion\n",
       "0     1.0          EU  10800.0    Q1     2.0             E        40.0\n",
       "1     2.0      Non-EU  25200.0    Q2     1.0             F        40.0\n",
       "2     3.0          EU  29880.0    Q2     3.0             G        40.0\n",
       "3     4.0          EU  27360.0    Q3     3.0             F        40.0\n",
       "4     5.0          EU  30240.0    Q4     4.0             G        40.0"
      ]
     },
     "execution_count": 89,
     "metadata": {},
     "output_type": "execute_result"
    }
   ],
   "source": [
    "NewEmployeeData.head()"
   ]
  },
  {
   "cell_type": "markdown",
   "id": "6a38e2ef",
   "metadata": {},
   "source": [
    "So we have completed step 2. Now let's consider step 3: \n",
    "\"In the source system, “Availability” refers to the period that someone is available is denoted by the value “Q1, Q2, Q3, Q4”, indicating in which quarter of the year that someone is available. In the target system “Period” indicates the interval of weeks that someone is available (e.g. [wk2-wk5] indicates that some is availble in the week 2 up to and including week 5 for work).\" Now if someone is available in the Period Q1, this includes wk2-wk5. So we will check for Q1 availability and convert it to start and end week of availability. To do so we will create two more columns: start and end week. We will give them the default values '1' and '52'and we will update them afterwards. "
   ]
  },
  {
   "cell_type": "code",
   "execution_count": 90,
   "id": "a3bcf2fb",
   "metadata": {},
   "outputs": [],
   "source": [
    "NewEmployeeData['Start week'] ='1'\n",
    "NewEmployeeData['End week'] ='52'"
   ]
  },
  {
   "cell_type": "markdown",
   "id": "76eb91f8",
   "metadata": {},
   "source": [
    "We will select all Employees with Q1 availability and will update their start and end weeks. \n",
    "We will then do similarly for Employees with Q2, Q3, and Q4 availablity. "
   ]
  },
  {
   "cell_type": "markdown",
   "id": "4e9d3849",
   "metadata": {},
   "source": [
    "Let's check how many employees are available at each quarter"
   ]
  },
  {
   "cell_type": "code",
   "execution_count": 91,
   "id": "237b9309",
   "metadata": {},
   "outputs": [
    {
     "data": {
      "text/html": [
       "<div>\n",
       "<style scoped>\n",
       "    .dataframe tbody tr th:only-of-type {\n",
       "        vertical-align: middle;\n",
       "    }\n",
       "\n",
       "    .dataframe tbody tr th {\n",
       "        vertical-align: top;\n",
       "    }\n",
       "\n",
       "    .dataframe thead th {\n",
       "        text-align: right;\n",
       "    }\n",
       "</style>\n",
       "<table border=\"1\" class=\"dataframe\">\n",
       "  <thead>\n",
       "    <tr style=\"text-align: right;\">\n",
       "      <th></th>\n",
       "      <th>Person</th>\n",
       "      <th>Nationality</th>\n",
       "      <th>Salary</th>\n",
       "      <th>Period</th>\n",
       "      <th>Level</th>\n",
       "      <th>Communication</th>\n",
       "      <th>Conversion</th>\n",
       "      <th>Start week</th>\n",
       "      <th>End week</th>\n",
       "    </tr>\n",
       "  </thead>\n",
       "  <tbody>\n",
       "    <tr>\n",
       "      <th>0</th>\n",
       "      <td>1.0</td>\n",
       "      <td>EU</td>\n",
       "      <td>10800.0</td>\n",
       "      <td>Q1</td>\n",
       "      <td>2.0</td>\n",
       "      <td>E</td>\n",
       "      <td>40.0</td>\n",
       "      <td>1</td>\n",
       "      <td>52</td>\n",
       "    </tr>\n",
       "    <tr>\n",
       "      <th>1</th>\n",
       "      <td>2.0</td>\n",
       "      <td>Non-EU</td>\n",
       "      <td>25200.0</td>\n",
       "      <td>Q2</td>\n",
       "      <td>1.0</td>\n",
       "      <td>F</td>\n",
       "      <td>40.0</td>\n",
       "      <td>1</td>\n",
       "      <td>52</td>\n",
       "    </tr>\n",
       "    <tr>\n",
       "      <th>2</th>\n",
       "      <td>3.0</td>\n",
       "      <td>EU</td>\n",
       "      <td>29880.0</td>\n",
       "      <td>Q2</td>\n",
       "      <td>3.0</td>\n",
       "      <td>G</td>\n",
       "      <td>40.0</td>\n",
       "      <td>1</td>\n",
       "      <td>52</td>\n",
       "    </tr>\n",
       "    <tr>\n",
       "      <th>3</th>\n",
       "      <td>4.0</td>\n",
       "      <td>EU</td>\n",
       "      <td>27360.0</td>\n",
       "      <td>Q3</td>\n",
       "      <td>3.0</td>\n",
       "      <td>F</td>\n",
       "      <td>40.0</td>\n",
       "      <td>1</td>\n",
       "      <td>52</td>\n",
       "    </tr>\n",
       "    <tr>\n",
       "      <th>4</th>\n",
       "      <td>5.0</td>\n",
       "      <td>EU</td>\n",
       "      <td>30240.0</td>\n",
       "      <td>Q4</td>\n",
       "      <td>4.0</td>\n",
       "      <td>G</td>\n",
       "      <td>40.0</td>\n",
       "      <td>1</td>\n",
       "      <td>52</td>\n",
       "    </tr>\n",
       "  </tbody>\n",
       "</table>\n",
       "</div>"
      ],
      "text/plain": [
       "   Person Nationality   Salary Period  Level Communication  Conversion  \\\n",
       "0     1.0          EU  10800.0    Q1     2.0             E        40.0   \n",
       "1     2.0      Non-EU  25200.0    Q2     1.0             F        40.0   \n",
       "2     3.0          EU  29880.0    Q2     3.0             G        40.0   \n",
       "3     4.0          EU  27360.0    Q3     3.0             F        40.0   \n",
       "4     5.0          EU  30240.0    Q4     4.0             G        40.0   \n",
       "\n",
       "  Start week End week  \n",
       "0          1       52  \n",
       "1          1       52  \n",
       "2          1       52  \n",
       "3          1       52  \n",
       "4          1       52  "
      ]
     },
     "execution_count": 91,
     "metadata": {},
     "output_type": "execute_result"
    }
   ],
   "source": [
    "NewEmployeeData.head()"
   ]
  },
  {
   "cell_type": "code",
   "execution_count": 92,
   "id": "2b5202d0",
   "metadata": {},
   "outputs": [
    {
     "data": {
      "text/plain": [
       " Q3     16\n",
       " Q1     15\n",
       " Q2     15\n",
       " Q4     14\n",
       "Name: Period, dtype: int64"
      ]
     },
     "execution_count": 92,
     "metadata": {},
     "output_type": "execute_result"
    }
   ],
   "source": [
    "id_counts = NewEmployeeData['Period'].value_counts()\n",
    "id_counts.head()"
   ]
  },
  {
   "cell_type": "markdown",
   "id": "8d46cc6e",
   "metadata": {},
   "source": [
    "Now let's create indices pointing to the employees for each quarter"
   ]
  },
  {
   "cell_type": "code",
   "execution_count": 93,
   "id": "ca97da28",
   "metadata": {},
   "outputs": [],
   "source": [
    "Q1Employees = NewEmployeeData[NewEmployeeData['Period'].str.contains('Q1')]\n",
    "Q2Employees = NewEmployeeData[NewEmployeeData['Period'].str.contains('Q2')]\n",
    "Q3Employees = NewEmployeeData[NewEmployeeData['Period'].str.contains('Q3')]\n",
    "Q4Employees = NewEmployeeData[NewEmployeeData['Period'].str.contains('Q4')]"
   ]
  },
  {
   "cell_type": "code",
   "execution_count": 94,
   "id": "3f063cbd",
   "metadata": {},
   "outputs": [
    {
     "data": {
      "text/html": [
       "<div>\n",
       "<style scoped>\n",
       "    .dataframe tbody tr th:only-of-type {\n",
       "        vertical-align: middle;\n",
       "    }\n",
       "\n",
       "    .dataframe tbody tr th {\n",
       "        vertical-align: top;\n",
       "    }\n",
       "\n",
       "    .dataframe thead th {\n",
       "        text-align: right;\n",
       "    }\n",
       "</style>\n",
       "<table border=\"1\" class=\"dataframe\">\n",
       "  <thead>\n",
       "    <tr style=\"text-align: right;\">\n",
       "      <th></th>\n",
       "      <th>Person</th>\n",
       "      <th>Nationality</th>\n",
       "      <th>Salary</th>\n",
       "      <th>Period</th>\n",
       "      <th>Level</th>\n",
       "      <th>Communication</th>\n",
       "      <th>Conversion</th>\n",
       "      <th>Start week</th>\n",
       "      <th>End week</th>\n",
       "    </tr>\n",
       "  </thead>\n",
       "  <tbody>\n",
       "    <tr>\n",
       "      <th>0</th>\n",
       "      <td>1.0</td>\n",
       "      <td>EU</td>\n",
       "      <td>10800.0</td>\n",
       "      <td>Q1</td>\n",
       "      <td>2.0</td>\n",
       "      <td>E</td>\n",
       "      <td>40.0</td>\n",
       "      <td>1</td>\n",
       "      <td>52</td>\n",
       "    </tr>\n",
       "    <tr>\n",
       "      <th>5</th>\n",
       "      <td>6.0</td>\n",
       "      <td>EU</td>\n",
       "      <td>43200.0</td>\n",
       "      <td>Q1</td>\n",
       "      <td>5.0</td>\n",
       "      <td>E</td>\n",
       "      <td>40.0</td>\n",
       "      <td>1</td>\n",
       "      <td>52</td>\n",
       "    </tr>\n",
       "    <tr>\n",
       "      <th>10</th>\n",
       "      <td>11.0</td>\n",
       "      <td>Non-EU</td>\n",
       "      <td>21600.0</td>\n",
       "      <td>Q1</td>\n",
       "      <td>2.0</td>\n",
       "      <td>O</td>\n",
       "      <td>40.0</td>\n",
       "      <td>1</td>\n",
       "      <td>52</td>\n",
       "    </tr>\n",
       "    <tr>\n",
       "      <th>13</th>\n",
       "      <td>14.0</td>\n",
       "      <td>EU</td>\n",
       "      <td>22320.0</td>\n",
       "      <td>Q1</td>\n",
       "      <td>4.0</td>\n",
       "      <td>G</td>\n",
       "      <td>40.0</td>\n",
       "      <td>1</td>\n",
       "      <td>52</td>\n",
       "    </tr>\n",
       "    <tr>\n",
       "      <th>19</th>\n",
       "      <td>20.0</td>\n",
       "      <td>EU</td>\n",
       "      <td>43200.0</td>\n",
       "      <td>Q1</td>\n",
       "      <td>2.0</td>\n",
       "      <td>E</td>\n",
       "      <td>40.0</td>\n",
       "      <td>1</td>\n",
       "      <td>52</td>\n",
       "    </tr>\n",
       "  </tbody>\n",
       "</table>\n",
       "</div>"
      ],
      "text/plain": [
       "    Person Nationality   Salary Period  Level Communication  Conversion  \\\n",
       "0      1.0          EU  10800.0    Q1     2.0             E        40.0   \n",
       "5      6.0          EU  43200.0    Q1     5.0             E        40.0   \n",
       "10    11.0      Non-EU  21600.0    Q1     2.0             O        40.0   \n",
       "13    14.0          EU  22320.0    Q1     4.0             G        40.0   \n",
       "19    20.0          EU  43200.0    Q1     2.0             E        40.0   \n",
       "\n",
       "   Start week End week  \n",
       "0           1       52  \n",
       "5           1       52  \n",
       "10          1       52  \n",
       "13          1       52  \n",
       "19          1       52  "
      ]
     },
     "execution_count": 94,
     "metadata": {},
     "output_type": "execute_result"
    }
   ],
   "source": [
    "Q1Employees.head()"
   ]
  },
  {
   "cell_type": "code",
   "execution_count": 95,
   "id": "5d892b96",
   "metadata": {},
   "outputs": [
    {
     "data": {
      "text/html": [
       "<div>\n",
       "<style scoped>\n",
       "    .dataframe tbody tr th:only-of-type {\n",
       "        vertical-align: middle;\n",
       "    }\n",
       "\n",
       "    .dataframe tbody tr th {\n",
       "        vertical-align: top;\n",
       "    }\n",
       "\n",
       "    .dataframe thead th {\n",
       "        text-align: right;\n",
       "    }\n",
       "</style>\n",
       "<table border=\"1\" class=\"dataframe\">\n",
       "  <thead>\n",
       "    <tr style=\"text-align: right;\">\n",
       "      <th></th>\n",
       "      <th>Person</th>\n",
       "      <th>Nationality</th>\n",
       "      <th>Salary</th>\n",
       "      <th>Period</th>\n",
       "      <th>Level</th>\n",
       "      <th>Communication</th>\n",
       "      <th>Conversion</th>\n",
       "      <th>Start week</th>\n",
       "      <th>End week</th>\n",
       "    </tr>\n",
       "  </thead>\n",
       "  <tbody>\n",
       "    <tr>\n",
       "      <th>1</th>\n",
       "      <td>2.0</td>\n",
       "      <td>Non-EU</td>\n",
       "      <td>25200.0</td>\n",
       "      <td>Q2</td>\n",
       "      <td>1.0</td>\n",
       "      <td>F</td>\n",
       "      <td>40.0</td>\n",
       "      <td>1</td>\n",
       "      <td>52</td>\n",
       "    </tr>\n",
       "    <tr>\n",
       "      <th>2</th>\n",
       "      <td>3.0</td>\n",
       "      <td>EU</td>\n",
       "      <td>29880.0</td>\n",
       "      <td>Q2</td>\n",
       "      <td>3.0</td>\n",
       "      <td>G</td>\n",
       "      <td>40.0</td>\n",
       "      <td>1</td>\n",
       "      <td>52</td>\n",
       "    </tr>\n",
       "    <tr>\n",
       "      <th>9</th>\n",
       "      <td>10.0</td>\n",
       "      <td>EU</td>\n",
       "      <td>19260.0</td>\n",
       "      <td>Q2</td>\n",
       "      <td>1.0</td>\n",
       "      <td>E</td>\n",
       "      <td>40.0</td>\n",
       "      <td>1</td>\n",
       "      <td>52</td>\n",
       "    </tr>\n",
       "    <tr>\n",
       "      <th>11</th>\n",
       "      <td>12.0</td>\n",
       "      <td>Non-EU</td>\n",
       "      <td>26100.0</td>\n",
       "      <td>Q2</td>\n",
       "      <td>3.0</td>\n",
       "      <td>O</td>\n",
       "      <td>40.0</td>\n",
       "      <td>1</td>\n",
       "      <td>52</td>\n",
       "    </tr>\n",
       "    <tr>\n",
       "      <th>18</th>\n",
       "      <td>19.0</td>\n",
       "      <td>Non-EU</td>\n",
       "      <td>30240.0</td>\n",
       "      <td>Q2</td>\n",
       "      <td>3.0</td>\n",
       "      <td>O</td>\n",
       "      <td>40.0</td>\n",
       "      <td>1</td>\n",
       "      <td>52</td>\n",
       "    </tr>\n",
       "  </tbody>\n",
       "</table>\n",
       "</div>"
      ],
      "text/plain": [
       "    Person Nationality   Salary Period  Level Communication  Conversion  \\\n",
       "1      2.0      Non-EU  25200.0    Q2     1.0             F        40.0   \n",
       "2      3.0          EU  29880.0    Q2     3.0             G        40.0   \n",
       "9     10.0          EU  19260.0    Q2     1.0             E        40.0   \n",
       "11    12.0      Non-EU  26100.0    Q2     3.0             O        40.0   \n",
       "18    19.0      Non-EU  30240.0    Q2     3.0             O        40.0   \n",
       "\n",
       "   Start week End week  \n",
       "1           1       52  \n",
       "2           1       52  \n",
       "9           1       52  \n",
       "11          1       52  \n",
       "18          1       52  "
      ]
     },
     "execution_count": 95,
     "metadata": {},
     "output_type": "execute_result"
    }
   ],
   "source": [
    "Q2Employees.head()"
   ]
  },
  {
   "cell_type": "code",
   "execution_count": 96,
   "id": "361c35f5",
   "metadata": {},
   "outputs": [
    {
     "data": {
      "text/html": [
       "<div>\n",
       "<style scoped>\n",
       "    .dataframe tbody tr th:only-of-type {\n",
       "        vertical-align: middle;\n",
       "    }\n",
       "\n",
       "    .dataframe tbody tr th {\n",
       "        vertical-align: top;\n",
       "    }\n",
       "\n",
       "    .dataframe thead th {\n",
       "        text-align: right;\n",
       "    }\n",
       "</style>\n",
       "<table border=\"1\" class=\"dataframe\">\n",
       "  <thead>\n",
       "    <tr style=\"text-align: right;\">\n",
       "      <th></th>\n",
       "      <th>Person</th>\n",
       "      <th>Nationality</th>\n",
       "      <th>Salary</th>\n",
       "      <th>Period</th>\n",
       "      <th>Level</th>\n",
       "      <th>Communication</th>\n",
       "      <th>Conversion</th>\n",
       "      <th>Start week</th>\n",
       "      <th>End week</th>\n",
       "    </tr>\n",
       "  </thead>\n",
       "  <tbody>\n",
       "    <tr>\n",
       "      <th>3</th>\n",
       "      <td>4.0</td>\n",
       "      <td>EU</td>\n",
       "      <td>27360.0</td>\n",
       "      <td>Q3</td>\n",
       "      <td>3.0</td>\n",
       "      <td>F</td>\n",
       "      <td>40.0</td>\n",
       "      <td>1</td>\n",
       "      <td>52</td>\n",
       "    </tr>\n",
       "    <tr>\n",
       "      <th>6</th>\n",
       "      <td>7.0</td>\n",
       "      <td>Non-EU</td>\n",
       "      <td>39600.0</td>\n",
       "      <td>Q3</td>\n",
       "      <td>5.0</td>\n",
       "      <td>O</td>\n",
       "      <td>40.0</td>\n",
       "      <td>1</td>\n",
       "      <td>52</td>\n",
       "    </tr>\n",
       "    <tr>\n",
       "      <th>8</th>\n",
       "      <td>9.0</td>\n",
       "      <td>Non-EU</td>\n",
       "      <td>18000.0</td>\n",
       "      <td>Q3</td>\n",
       "      <td>4.0</td>\n",
       "      <td>O</td>\n",
       "      <td>40.0</td>\n",
       "      <td>1</td>\n",
       "      <td>52</td>\n",
       "    </tr>\n",
       "    <tr>\n",
       "      <th>12</th>\n",
       "      <td>13.0</td>\n",
       "      <td>Non-EU</td>\n",
       "      <td>21600.0</td>\n",
       "      <td>Q3</td>\n",
       "      <td>3.0</td>\n",
       "      <td>O</td>\n",
       "      <td>40.0</td>\n",
       "      <td>1</td>\n",
       "      <td>52</td>\n",
       "    </tr>\n",
       "    <tr>\n",
       "      <th>14</th>\n",
       "      <td>15.0</td>\n",
       "      <td>EU</td>\n",
       "      <td>10800.0</td>\n",
       "      <td>Q3</td>\n",
       "      <td>5.0</td>\n",
       "      <td>G</td>\n",
       "      <td>40.0</td>\n",
       "      <td>1</td>\n",
       "      <td>52</td>\n",
       "    </tr>\n",
       "  </tbody>\n",
       "</table>\n",
       "</div>"
      ],
      "text/plain": [
       "    Person Nationality   Salary Period  Level Communication  Conversion  \\\n",
       "3      4.0          EU  27360.0    Q3     3.0             F        40.0   \n",
       "6      7.0      Non-EU  39600.0    Q3     5.0             O        40.0   \n",
       "8      9.0      Non-EU  18000.0    Q3     4.0             O        40.0   \n",
       "12    13.0      Non-EU  21600.0    Q3     3.0             O        40.0   \n",
       "14    15.0          EU  10800.0    Q3     5.0             G        40.0   \n",
       "\n",
       "   Start week End week  \n",
       "3           1       52  \n",
       "6           1       52  \n",
       "8           1       52  \n",
       "12          1       52  \n",
       "14          1       52  "
      ]
     },
     "execution_count": 96,
     "metadata": {},
     "output_type": "execute_result"
    }
   ],
   "source": [
    "Q3Employees.head()"
   ]
  },
  {
   "cell_type": "code",
   "execution_count": 97,
   "id": "6991694d",
   "metadata": {},
   "outputs": [
    {
     "data": {
      "text/html": [
       "<div>\n",
       "<style scoped>\n",
       "    .dataframe tbody tr th:only-of-type {\n",
       "        vertical-align: middle;\n",
       "    }\n",
       "\n",
       "    .dataframe tbody tr th {\n",
       "        vertical-align: top;\n",
       "    }\n",
       "\n",
       "    .dataframe thead th {\n",
       "        text-align: right;\n",
       "    }\n",
       "</style>\n",
       "<table border=\"1\" class=\"dataframe\">\n",
       "  <thead>\n",
       "    <tr style=\"text-align: right;\">\n",
       "      <th></th>\n",
       "      <th>Person</th>\n",
       "      <th>Nationality</th>\n",
       "      <th>Salary</th>\n",
       "      <th>Period</th>\n",
       "      <th>Level</th>\n",
       "      <th>Communication</th>\n",
       "      <th>Conversion</th>\n",
       "      <th>Start week</th>\n",
       "      <th>End week</th>\n",
       "    </tr>\n",
       "  </thead>\n",
       "  <tbody>\n",
       "    <tr>\n",
       "      <th>4</th>\n",
       "      <td>5.0</td>\n",
       "      <td>EU</td>\n",
       "      <td>30240.0</td>\n",
       "      <td>Q4</td>\n",
       "      <td>4.0</td>\n",
       "      <td>G</td>\n",
       "      <td>40.0</td>\n",
       "      <td>1</td>\n",
       "      <td>52</td>\n",
       "    </tr>\n",
       "    <tr>\n",
       "      <th>7</th>\n",
       "      <td>8.0</td>\n",
       "      <td>Non-EU</td>\n",
       "      <td>33480.0</td>\n",
       "      <td>Q4</td>\n",
       "      <td>5.0</td>\n",
       "      <td>O</td>\n",
       "      <td>40.0</td>\n",
       "      <td>1</td>\n",
       "      <td>52</td>\n",
       "    </tr>\n",
       "    <tr>\n",
       "      <th>15</th>\n",
       "      <td>16.0</td>\n",
       "      <td>EU</td>\n",
       "      <td>25200.0</td>\n",
       "      <td>Q4</td>\n",
       "      <td>5.0</td>\n",
       "      <td>F</td>\n",
       "      <td>40.0</td>\n",
       "      <td>1</td>\n",
       "      <td>52</td>\n",
       "    </tr>\n",
       "    <tr>\n",
       "      <th>16</th>\n",
       "      <td>17.0</td>\n",
       "      <td>EU</td>\n",
       "      <td>29880.0</td>\n",
       "      <td>Q4</td>\n",
       "      <td>5.0</td>\n",
       "      <td>E</td>\n",
       "      <td>40.0</td>\n",
       "      <td>1</td>\n",
       "      <td>52</td>\n",
       "    </tr>\n",
       "    <tr>\n",
       "      <th>17</th>\n",
       "      <td>18.0</td>\n",
       "      <td>EU</td>\n",
       "      <td>27360.0</td>\n",
       "      <td>Q4</td>\n",
       "      <td>4.0</td>\n",
       "      <td>E</td>\n",
       "      <td>40.0</td>\n",
       "      <td>1</td>\n",
       "      <td>52</td>\n",
       "    </tr>\n",
       "  </tbody>\n",
       "</table>\n",
       "</div>"
      ],
      "text/plain": [
       "    Person Nationality   Salary Period  Level Communication  Conversion  \\\n",
       "4      5.0          EU  30240.0    Q4     4.0             G        40.0   \n",
       "7      8.0      Non-EU  33480.0    Q4     5.0             O        40.0   \n",
       "15    16.0          EU  25200.0    Q4     5.0             F        40.0   \n",
       "16    17.0          EU  29880.0    Q4     5.0             E        40.0   \n",
       "17    18.0          EU  27360.0    Q4     4.0             E        40.0   \n",
       "\n",
       "   Start week End week  \n",
       "4           1       52  \n",
       "7           1       52  \n",
       "15          1       52  \n",
       "16          1       52  \n",
       "17          1       52  "
      ]
     },
     "execution_count": 97,
     "metadata": {},
     "output_type": "execute_result"
    }
   ],
   "source": [
    "Q4Employees.head()"
   ]
  },
  {
   "cell_type": "markdown",
   "id": "17effd58",
   "metadata": {},
   "source": [
    "Great. Now for each group of Q1, Q2, Q3, and Q4, we can set the start / end week values. It is more elegant to use the loc methods instead (we see how to do that below, but let's progress for now). "
   ]
  },
  {
   "cell_type": "code",
   "execution_count": 98,
   "id": "9536e230",
   "metadata": {},
   "outputs": [
    {
     "name": "stderr",
     "output_type": "stream",
     "text": [
      "C:\\Users\\P301449\\AppData\\Local\\Temp\\13/ipykernel_8992/2583481100.py:1: SettingWithCopyWarning: \n",
      "A value is trying to be set on a copy of a slice from a DataFrame.\n",
      "Try using .loc[row_indexer,col_indexer] = value instead\n",
      "\n",
      "See the caveats in the documentation: https://pandas.pydata.org/pandas-docs/stable/user_guide/indexing.html#returning-a-view-versus-a-copy\n",
      "  Q1Employees['Start week'] = 1\n",
      "C:\\Users\\P301449\\AppData\\Local\\Temp\\13/ipykernel_8992/2583481100.py:2: SettingWithCopyWarning: \n",
      "A value is trying to be set on a copy of a slice from a DataFrame.\n",
      "Try using .loc[row_indexer,col_indexer] = value instead\n",
      "\n",
      "See the caveats in the documentation: https://pandas.pydata.org/pandas-docs/stable/user_guide/indexing.html#returning-a-view-versus-a-copy\n",
      "  Q2Employees['Start week'] = 14\n",
      "C:\\Users\\P301449\\AppData\\Local\\Temp\\13/ipykernel_8992/2583481100.py:3: SettingWithCopyWarning: \n",
      "A value is trying to be set on a copy of a slice from a DataFrame.\n",
      "Try using .loc[row_indexer,col_indexer] = value instead\n",
      "\n",
      "See the caveats in the documentation: https://pandas.pydata.org/pandas-docs/stable/user_guide/indexing.html#returning-a-view-versus-a-copy\n",
      "  Q3Employees['Start week'] = 27\n",
      "C:\\Users\\P301449\\AppData\\Local\\Temp\\13/ipykernel_8992/2583481100.py:4: SettingWithCopyWarning: \n",
      "A value is trying to be set on a copy of a slice from a DataFrame.\n",
      "Try using .loc[row_indexer,col_indexer] = value instead\n",
      "\n",
      "See the caveats in the documentation: https://pandas.pydata.org/pandas-docs/stable/user_guide/indexing.html#returning-a-view-versus-a-copy\n",
      "  Q4Employees['Start week'] = 40\n",
      "C:\\Users\\P301449\\AppData\\Local\\Temp\\13/ipykernel_8992/2583481100.py:5: SettingWithCopyWarning: \n",
      "A value is trying to be set on a copy of a slice from a DataFrame.\n",
      "Try using .loc[row_indexer,col_indexer] = value instead\n",
      "\n",
      "See the caveats in the documentation: https://pandas.pydata.org/pandas-docs/stable/user_guide/indexing.html#returning-a-view-versus-a-copy\n",
      "  Q1Employees['End week'] = 13\n",
      "C:\\Users\\P301449\\AppData\\Local\\Temp\\13/ipykernel_8992/2583481100.py:6: SettingWithCopyWarning: \n",
      "A value is trying to be set on a copy of a slice from a DataFrame.\n",
      "Try using .loc[row_indexer,col_indexer] = value instead\n",
      "\n",
      "See the caveats in the documentation: https://pandas.pydata.org/pandas-docs/stable/user_guide/indexing.html#returning-a-view-versus-a-copy\n",
      "  Q2Employees['End week'] = 26\n",
      "C:\\Users\\P301449\\AppData\\Local\\Temp\\13/ipykernel_8992/2583481100.py:7: SettingWithCopyWarning: \n",
      "A value is trying to be set on a copy of a slice from a DataFrame.\n",
      "Try using .loc[row_indexer,col_indexer] = value instead\n",
      "\n",
      "See the caveats in the documentation: https://pandas.pydata.org/pandas-docs/stable/user_guide/indexing.html#returning-a-view-versus-a-copy\n",
      "  Q3Employees['End week'] = 39\n",
      "C:\\Users\\P301449\\AppData\\Local\\Temp\\13/ipykernel_8992/2583481100.py:8: SettingWithCopyWarning: \n",
      "A value is trying to be set on a copy of a slice from a DataFrame.\n",
      "Try using .loc[row_indexer,col_indexer] = value instead\n",
      "\n",
      "See the caveats in the documentation: https://pandas.pydata.org/pandas-docs/stable/user_guide/indexing.html#returning-a-view-versus-a-copy\n",
      "  Q4Employees['End week'] = 52\n"
     ]
    }
   ],
   "source": [
    "Q1Employees['Start week'] = 1\n",
    "Q2Employees['Start week'] = 14\n",
    "Q3Employees['Start week'] = 27\n",
    "Q4Employees['Start week'] = 40\n",
    "Q1Employees['End week'] = 13\n",
    "Q2Employees['End week'] = 26\n",
    "Q3Employees['End week'] = 39\n",
    "Q4Employees['End week'] = 52"
   ]
  },
  {
   "cell_type": "code",
   "execution_count": 99,
   "id": "4bc37f75",
   "metadata": {},
   "outputs": [
    {
     "data": {
      "text/html": [
       "<div>\n",
       "<style scoped>\n",
       "    .dataframe tbody tr th:only-of-type {\n",
       "        vertical-align: middle;\n",
       "    }\n",
       "\n",
       "    .dataframe tbody tr th {\n",
       "        vertical-align: top;\n",
       "    }\n",
       "\n",
       "    .dataframe thead th {\n",
       "        text-align: right;\n",
       "    }\n",
       "</style>\n",
       "<table border=\"1\" class=\"dataframe\">\n",
       "  <thead>\n",
       "    <tr style=\"text-align: right;\">\n",
       "      <th></th>\n",
       "      <th>Person</th>\n",
       "      <th>Nationality</th>\n",
       "      <th>Salary</th>\n",
       "      <th>Period</th>\n",
       "      <th>Level</th>\n",
       "      <th>Communication</th>\n",
       "      <th>Conversion</th>\n",
       "      <th>Start week</th>\n",
       "      <th>End week</th>\n",
       "    </tr>\n",
       "  </thead>\n",
       "  <tbody>\n",
       "    <tr>\n",
       "      <th>0</th>\n",
       "      <td>1.0</td>\n",
       "      <td>EU</td>\n",
       "      <td>10800.0</td>\n",
       "      <td>Q1</td>\n",
       "      <td>2.0</td>\n",
       "      <td>E</td>\n",
       "      <td>40.0</td>\n",
       "      <td>1</td>\n",
       "      <td>13</td>\n",
       "    </tr>\n",
       "    <tr>\n",
       "      <th>5</th>\n",
       "      <td>6.0</td>\n",
       "      <td>EU</td>\n",
       "      <td>43200.0</td>\n",
       "      <td>Q1</td>\n",
       "      <td>5.0</td>\n",
       "      <td>E</td>\n",
       "      <td>40.0</td>\n",
       "      <td>1</td>\n",
       "      <td>13</td>\n",
       "    </tr>\n",
       "    <tr>\n",
       "      <th>10</th>\n",
       "      <td>11.0</td>\n",
       "      <td>Non-EU</td>\n",
       "      <td>21600.0</td>\n",
       "      <td>Q1</td>\n",
       "      <td>2.0</td>\n",
       "      <td>O</td>\n",
       "      <td>40.0</td>\n",
       "      <td>1</td>\n",
       "      <td>13</td>\n",
       "    </tr>\n",
       "    <tr>\n",
       "      <th>13</th>\n",
       "      <td>14.0</td>\n",
       "      <td>EU</td>\n",
       "      <td>22320.0</td>\n",
       "      <td>Q1</td>\n",
       "      <td>4.0</td>\n",
       "      <td>G</td>\n",
       "      <td>40.0</td>\n",
       "      <td>1</td>\n",
       "      <td>13</td>\n",
       "    </tr>\n",
       "    <tr>\n",
       "      <th>19</th>\n",
       "      <td>20.0</td>\n",
       "      <td>EU</td>\n",
       "      <td>43200.0</td>\n",
       "      <td>Q1</td>\n",
       "      <td>2.0</td>\n",
       "      <td>E</td>\n",
       "      <td>40.0</td>\n",
       "      <td>1</td>\n",
       "      <td>13</td>\n",
       "    </tr>\n",
       "  </tbody>\n",
       "</table>\n",
       "</div>"
      ],
      "text/plain": [
       "    Person Nationality   Salary Period  Level Communication  Conversion  \\\n",
       "0      1.0          EU  10800.0    Q1     2.0             E        40.0   \n",
       "5      6.0          EU  43200.0    Q1     5.0             E        40.0   \n",
       "10    11.0      Non-EU  21600.0    Q1     2.0             O        40.0   \n",
       "13    14.0          EU  22320.0    Q1     4.0             G        40.0   \n",
       "19    20.0          EU  43200.0    Q1     2.0             E        40.0   \n",
       "\n",
       "    Start week  End week  \n",
       "0            1        13  \n",
       "5            1        13  \n",
       "10           1        13  \n",
       "13           1        13  \n",
       "19           1        13  "
      ]
     },
     "execution_count": 99,
     "metadata": {},
     "output_type": "execute_result"
    }
   ],
   "source": [
    "Q1Employees.head()"
   ]
  },
  {
   "cell_type": "code",
   "execution_count": 100,
   "id": "66a92701",
   "metadata": {},
   "outputs": [
    {
     "data": {
      "text/html": [
       "<div>\n",
       "<style scoped>\n",
       "    .dataframe tbody tr th:only-of-type {\n",
       "        vertical-align: middle;\n",
       "    }\n",
       "\n",
       "    .dataframe tbody tr th {\n",
       "        vertical-align: top;\n",
       "    }\n",
       "\n",
       "    .dataframe thead th {\n",
       "        text-align: right;\n",
       "    }\n",
       "</style>\n",
       "<table border=\"1\" class=\"dataframe\">\n",
       "  <thead>\n",
       "    <tr style=\"text-align: right;\">\n",
       "      <th></th>\n",
       "      <th>Person</th>\n",
       "      <th>Nationality</th>\n",
       "      <th>Salary</th>\n",
       "      <th>Period</th>\n",
       "      <th>Level</th>\n",
       "      <th>Communication</th>\n",
       "      <th>Conversion</th>\n",
       "      <th>Start week</th>\n",
       "      <th>End week</th>\n",
       "    </tr>\n",
       "  </thead>\n",
       "  <tbody>\n",
       "    <tr>\n",
       "      <th>1</th>\n",
       "      <td>2.0</td>\n",
       "      <td>Non-EU</td>\n",
       "      <td>25200.0</td>\n",
       "      <td>Q2</td>\n",
       "      <td>1.0</td>\n",
       "      <td>F</td>\n",
       "      <td>40.0</td>\n",
       "      <td>14</td>\n",
       "      <td>26</td>\n",
       "    </tr>\n",
       "    <tr>\n",
       "      <th>2</th>\n",
       "      <td>3.0</td>\n",
       "      <td>EU</td>\n",
       "      <td>29880.0</td>\n",
       "      <td>Q2</td>\n",
       "      <td>3.0</td>\n",
       "      <td>G</td>\n",
       "      <td>40.0</td>\n",
       "      <td>14</td>\n",
       "      <td>26</td>\n",
       "    </tr>\n",
       "    <tr>\n",
       "      <th>9</th>\n",
       "      <td>10.0</td>\n",
       "      <td>EU</td>\n",
       "      <td>19260.0</td>\n",
       "      <td>Q2</td>\n",
       "      <td>1.0</td>\n",
       "      <td>E</td>\n",
       "      <td>40.0</td>\n",
       "      <td>14</td>\n",
       "      <td>26</td>\n",
       "    </tr>\n",
       "    <tr>\n",
       "      <th>11</th>\n",
       "      <td>12.0</td>\n",
       "      <td>Non-EU</td>\n",
       "      <td>26100.0</td>\n",
       "      <td>Q2</td>\n",
       "      <td>3.0</td>\n",
       "      <td>O</td>\n",
       "      <td>40.0</td>\n",
       "      <td>14</td>\n",
       "      <td>26</td>\n",
       "    </tr>\n",
       "    <tr>\n",
       "      <th>18</th>\n",
       "      <td>19.0</td>\n",
       "      <td>Non-EU</td>\n",
       "      <td>30240.0</td>\n",
       "      <td>Q2</td>\n",
       "      <td>3.0</td>\n",
       "      <td>O</td>\n",
       "      <td>40.0</td>\n",
       "      <td>14</td>\n",
       "      <td>26</td>\n",
       "    </tr>\n",
       "  </tbody>\n",
       "</table>\n",
       "</div>"
      ],
      "text/plain": [
       "    Person Nationality   Salary Period  Level Communication  Conversion  \\\n",
       "1      2.0      Non-EU  25200.0    Q2     1.0             F        40.0   \n",
       "2      3.0          EU  29880.0    Q2     3.0             G        40.0   \n",
       "9     10.0          EU  19260.0    Q2     1.0             E        40.0   \n",
       "11    12.0      Non-EU  26100.0    Q2     3.0             O        40.0   \n",
       "18    19.0      Non-EU  30240.0    Q2     3.0             O        40.0   \n",
       "\n",
       "    Start week  End week  \n",
       "1           14        26  \n",
       "2           14        26  \n",
       "9           14        26  \n",
       "11          14        26  \n",
       "18          14        26  "
      ]
     },
     "execution_count": 100,
     "metadata": {},
     "output_type": "execute_result"
    }
   ],
   "source": [
    "Q2Employees.head()"
   ]
  },
  {
   "cell_type": "code",
   "execution_count": 101,
   "id": "63176060",
   "metadata": {},
   "outputs": [
    {
     "data": {
      "text/html": [
       "<div>\n",
       "<style scoped>\n",
       "    .dataframe tbody tr th:only-of-type {\n",
       "        vertical-align: middle;\n",
       "    }\n",
       "\n",
       "    .dataframe tbody tr th {\n",
       "        vertical-align: top;\n",
       "    }\n",
       "\n",
       "    .dataframe thead th {\n",
       "        text-align: right;\n",
       "    }\n",
       "</style>\n",
       "<table border=\"1\" class=\"dataframe\">\n",
       "  <thead>\n",
       "    <tr style=\"text-align: right;\">\n",
       "      <th></th>\n",
       "      <th>Person</th>\n",
       "      <th>Nationality</th>\n",
       "      <th>Salary</th>\n",
       "      <th>Period</th>\n",
       "      <th>Level</th>\n",
       "      <th>Communication</th>\n",
       "      <th>Conversion</th>\n",
       "      <th>Start week</th>\n",
       "      <th>End week</th>\n",
       "    </tr>\n",
       "  </thead>\n",
       "  <tbody>\n",
       "    <tr>\n",
       "      <th>3</th>\n",
       "      <td>4.0</td>\n",
       "      <td>EU</td>\n",
       "      <td>27360.0</td>\n",
       "      <td>Q3</td>\n",
       "      <td>3.0</td>\n",
       "      <td>F</td>\n",
       "      <td>40.0</td>\n",
       "      <td>27</td>\n",
       "      <td>39</td>\n",
       "    </tr>\n",
       "    <tr>\n",
       "      <th>6</th>\n",
       "      <td>7.0</td>\n",
       "      <td>Non-EU</td>\n",
       "      <td>39600.0</td>\n",
       "      <td>Q3</td>\n",
       "      <td>5.0</td>\n",
       "      <td>O</td>\n",
       "      <td>40.0</td>\n",
       "      <td>27</td>\n",
       "      <td>39</td>\n",
       "    </tr>\n",
       "    <tr>\n",
       "      <th>8</th>\n",
       "      <td>9.0</td>\n",
       "      <td>Non-EU</td>\n",
       "      <td>18000.0</td>\n",
       "      <td>Q3</td>\n",
       "      <td>4.0</td>\n",
       "      <td>O</td>\n",
       "      <td>40.0</td>\n",
       "      <td>27</td>\n",
       "      <td>39</td>\n",
       "    </tr>\n",
       "    <tr>\n",
       "      <th>12</th>\n",
       "      <td>13.0</td>\n",
       "      <td>Non-EU</td>\n",
       "      <td>21600.0</td>\n",
       "      <td>Q3</td>\n",
       "      <td>3.0</td>\n",
       "      <td>O</td>\n",
       "      <td>40.0</td>\n",
       "      <td>27</td>\n",
       "      <td>39</td>\n",
       "    </tr>\n",
       "    <tr>\n",
       "      <th>14</th>\n",
       "      <td>15.0</td>\n",
       "      <td>EU</td>\n",
       "      <td>10800.0</td>\n",
       "      <td>Q3</td>\n",
       "      <td>5.0</td>\n",
       "      <td>G</td>\n",
       "      <td>40.0</td>\n",
       "      <td>27</td>\n",
       "      <td>39</td>\n",
       "    </tr>\n",
       "  </tbody>\n",
       "</table>\n",
       "</div>"
      ],
      "text/plain": [
       "    Person Nationality   Salary Period  Level Communication  Conversion  \\\n",
       "3      4.0          EU  27360.0    Q3     3.0             F        40.0   \n",
       "6      7.0      Non-EU  39600.0    Q3     5.0             O        40.0   \n",
       "8      9.0      Non-EU  18000.0    Q3     4.0             O        40.0   \n",
       "12    13.0      Non-EU  21600.0    Q3     3.0             O        40.0   \n",
       "14    15.0          EU  10800.0    Q3     5.0             G        40.0   \n",
       "\n",
       "    Start week  End week  \n",
       "3           27        39  \n",
       "6           27        39  \n",
       "8           27        39  \n",
       "12          27        39  \n",
       "14          27        39  "
      ]
     },
     "execution_count": 101,
     "metadata": {},
     "output_type": "execute_result"
    }
   ],
   "source": [
    "Q3Employees.head()"
   ]
  },
  {
   "cell_type": "code",
   "execution_count": 102,
   "id": "91d41827",
   "metadata": {},
   "outputs": [
    {
     "data": {
      "text/html": [
       "<div>\n",
       "<style scoped>\n",
       "    .dataframe tbody tr th:only-of-type {\n",
       "        vertical-align: middle;\n",
       "    }\n",
       "\n",
       "    .dataframe tbody tr th {\n",
       "        vertical-align: top;\n",
       "    }\n",
       "\n",
       "    .dataframe thead th {\n",
       "        text-align: right;\n",
       "    }\n",
       "</style>\n",
       "<table border=\"1\" class=\"dataframe\">\n",
       "  <thead>\n",
       "    <tr style=\"text-align: right;\">\n",
       "      <th></th>\n",
       "      <th>Person</th>\n",
       "      <th>Nationality</th>\n",
       "      <th>Salary</th>\n",
       "      <th>Period</th>\n",
       "      <th>Level</th>\n",
       "      <th>Communication</th>\n",
       "      <th>Conversion</th>\n",
       "      <th>Start week</th>\n",
       "      <th>End week</th>\n",
       "    </tr>\n",
       "  </thead>\n",
       "  <tbody>\n",
       "    <tr>\n",
       "      <th>4</th>\n",
       "      <td>5.0</td>\n",
       "      <td>EU</td>\n",
       "      <td>30240.0</td>\n",
       "      <td>Q4</td>\n",
       "      <td>4.0</td>\n",
       "      <td>G</td>\n",
       "      <td>40.0</td>\n",
       "      <td>40</td>\n",
       "      <td>52</td>\n",
       "    </tr>\n",
       "    <tr>\n",
       "      <th>7</th>\n",
       "      <td>8.0</td>\n",
       "      <td>Non-EU</td>\n",
       "      <td>33480.0</td>\n",
       "      <td>Q4</td>\n",
       "      <td>5.0</td>\n",
       "      <td>O</td>\n",
       "      <td>40.0</td>\n",
       "      <td>40</td>\n",
       "      <td>52</td>\n",
       "    </tr>\n",
       "    <tr>\n",
       "      <th>15</th>\n",
       "      <td>16.0</td>\n",
       "      <td>EU</td>\n",
       "      <td>25200.0</td>\n",
       "      <td>Q4</td>\n",
       "      <td>5.0</td>\n",
       "      <td>F</td>\n",
       "      <td>40.0</td>\n",
       "      <td>40</td>\n",
       "      <td>52</td>\n",
       "    </tr>\n",
       "    <tr>\n",
       "      <th>16</th>\n",
       "      <td>17.0</td>\n",
       "      <td>EU</td>\n",
       "      <td>29880.0</td>\n",
       "      <td>Q4</td>\n",
       "      <td>5.0</td>\n",
       "      <td>E</td>\n",
       "      <td>40.0</td>\n",
       "      <td>40</td>\n",
       "      <td>52</td>\n",
       "    </tr>\n",
       "    <tr>\n",
       "      <th>17</th>\n",
       "      <td>18.0</td>\n",
       "      <td>EU</td>\n",
       "      <td>27360.0</td>\n",
       "      <td>Q4</td>\n",
       "      <td>4.0</td>\n",
       "      <td>E</td>\n",
       "      <td>40.0</td>\n",
       "      <td>40</td>\n",
       "      <td>52</td>\n",
       "    </tr>\n",
       "  </tbody>\n",
       "</table>\n",
       "</div>"
      ],
      "text/plain": [
       "    Person Nationality   Salary Period  Level Communication  Conversion  \\\n",
       "4      5.0          EU  30240.0    Q4     4.0             G        40.0   \n",
       "7      8.0      Non-EU  33480.0    Q4     5.0             O        40.0   \n",
       "15    16.0          EU  25200.0    Q4     5.0             F        40.0   \n",
       "16    17.0          EU  29880.0    Q4     5.0             E        40.0   \n",
       "17    18.0          EU  27360.0    Q4     4.0             E        40.0   \n",
       "\n",
       "    Start week  End week  \n",
       "4           40        52  \n",
       "7           40        52  \n",
       "15          40        52  \n",
       "16          40        52  \n",
       "17          40        52  "
      ]
     },
     "execution_count": 102,
     "metadata": {},
     "output_type": "execute_result"
    }
   ],
   "source": [
    "Q4Employees.head()"
   ]
  },
  {
   "cell_type": "code",
   "execution_count": 103,
   "id": "98c9caa0",
   "metadata": {},
   "outputs": [
    {
     "data": {
      "text/plain": [
       "(60, 9)"
      ]
     },
     "execution_count": 103,
     "metadata": {},
     "output_type": "execute_result"
    }
   ],
   "source": [
    "UpdatedEmployees = Q1Employees.append([Q2Employees,Q3Employees,Q4Employees])\n",
    "UpdatedEmployees.shape"
   ]
  },
  {
   "cell_type": "markdown",
   "id": "68157bfb",
   "metadata": {},
   "source": [
    "We don't need the Period and Conversions columns any more. We use the drop method to delete them. "
   ]
  },
  {
   "cell_type": "code",
   "execution_count": 104,
   "id": "926908f7",
   "metadata": {},
   "outputs": [],
   "source": [
    "UpdatedEmployees = UpdatedEmployees.drop(['Period','Conversion'], axis=1)"
   ]
  },
  {
   "cell_type": "code",
   "execution_count": 105,
   "id": "3db7dda0",
   "metadata": {},
   "outputs": [
    {
     "data": {
      "text/html": [
       "<div>\n",
       "<style scoped>\n",
       "    .dataframe tbody tr th:only-of-type {\n",
       "        vertical-align: middle;\n",
       "    }\n",
       "\n",
       "    .dataframe tbody tr th {\n",
       "        vertical-align: top;\n",
       "    }\n",
       "\n",
       "    .dataframe thead th {\n",
       "        text-align: right;\n",
       "    }\n",
       "</style>\n",
       "<table border=\"1\" class=\"dataframe\">\n",
       "  <thead>\n",
       "    <tr style=\"text-align: right;\">\n",
       "      <th></th>\n",
       "      <th>Person</th>\n",
       "      <th>Nationality</th>\n",
       "      <th>Salary</th>\n",
       "      <th>Level</th>\n",
       "      <th>Communication</th>\n",
       "      <th>Start week</th>\n",
       "      <th>End week</th>\n",
       "    </tr>\n",
       "  </thead>\n",
       "  <tbody>\n",
       "    <tr>\n",
       "      <th>0</th>\n",
       "      <td>1.0</td>\n",
       "      <td>EU</td>\n",
       "      <td>10800.0</td>\n",
       "      <td>2.0</td>\n",
       "      <td>E</td>\n",
       "      <td>1</td>\n",
       "      <td>13</td>\n",
       "    </tr>\n",
       "    <tr>\n",
       "      <th>5</th>\n",
       "      <td>6.0</td>\n",
       "      <td>EU</td>\n",
       "      <td>43200.0</td>\n",
       "      <td>5.0</td>\n",
       "      <td>E</td>\n",
       "      <td>1</td>\n",
       "      <td>13</td>\n",
       "    </tr>\n",
       "    <tr>\n",
       "      <th>10</th>\n",
       "      <td>11.0</td>\n",
       "      <td>Non-EU</td>\n",
       "      <td>21600.0</td>\n",
       "      <td>2.0</td>\n",
       "      <td>O</td>\n",
       "      <td>1</td>\n",
       "      <td>13</td>\n",
       "    </tr>\n",
       "    <tr>\n",
       "      <th>13</th>\n",
       "      <td>14.0</td>\n",
       "      <td>EU</td>\n",
       "      <td>22320.0</td>\n",
       "      <td>4.0</td>\n",
       "      <td>G</td>\n",
       "      <td>1</td>\n",
       "      <td>13</td>\n",
       "    </tr>\n",
       "    <tr>\n",
       "      <th>19</th>\n",
       "      <td>20.0</td>\n",
       "      <td>EU</td>\n",
       "      <td>43200.0</td>\n",
       "      <td>2.0</td>\n",
       "      <td>E</td>\n",
       "      <td>1</td>\n",
       "      <td>13</td>\n",
       "    </tr>\n",
       "  </tbody>\n",
       "</table>\n",
       "</div>"
      ],
      "text/plain": [
       "    Person Nationality   Salary  Level Communication  Start week  End week\n",
       "0      1.0          EU  10800.0    2.0             E           1        13\n",
       "5      6.0          EU  43200.0    5.0             E           1        13\n",
       "10    11.0      Non-EU  21600.0    2.0             O           1        13\n",
       "13    14.0          EU  22320.0    4.0             G           1        13\n",
       "19    20.0          EU  43200.0    2.0             E           1        13"
      ]
     },
     "execution_count": 105,
     "metadata": {},
     "output_type": "execute_result"
    }
   ],
   "source": [
    "UpdatedEmployees.head()"
   ]
  },
  {
   "cell_type": "code",
   "execution_count": 106,
   "id": "1122f88c",
   "metadata": {},
   "outputs": [],
   "source": [
    "UpdatedEmployees.sort_index(inplace=True)"
   ]
  },
  {
   "cell_type": "code",
   "execution_count": 107,
   "id": "ed375fd0",
   "metadata": {},
   "outputs": [
    {
     "data": {
      "text/html": [
       "<div>\n",
       "<style scoped>\n",
       "    .dataframe tbody tr th:only-of-type {\n",
       "        vertical-align: middle;\n",
       "    }\n",
       "\n",
       "    .dataframe tbody tr th {\n",
       "        vertical-align: top;\n",
       "    }\n",
       "\n",
       "    .dataframe thead th {\n",
       "        text-align: right;\n",
       "    }\n",
       "</style>\n",
       "<table border=\"1\" class=\"dataframe\">\n",
       "  <thead>\n",
       "    <tr style=\"text-align: right;\">\n",
       "      <th></th>\n",
       "      <th>Person</th>\n",
       "      <th>Nationality</th>\n",
       "      <th>Salary</th>\n",
       "      <th>Level</th>\n",
       "      <th>Communication</th>\n",
       "      <th>Start week</th>\n",
       "      <th>End week</th>\n",
       "    </tr>\n",
       "  </thead>\n",
       "  <tbody>\n",
       "    <tr>\n",
       "      <th>0</th>\n",
       "      <td>1.0</td>\n",
       "      <td>EU</td>\n",
       "      <td>10800.0</td>\n",
       "      <td>2.0</td>\n",
       "      <td>E</td>\n",
       "      <td>1</td>\n",
       "      <td>13</td>\n",
       "    </tr>\n",
       "    <tr>\n",
       "      <th>1</th>\n",
       "      <td>2.0</td>\n",
       "      <td>Non-EU</td>\n",
       "      <td>25200.0</td>\n",
       "      <td>1.0</td>\n",
       "      <td>F</td>\n",
       "      <td>14</td>\n",
       "      <td>26</td>\n",
       "    </tr>\n",
       "    <tr>\n",
       "      <th>2</th>\n",
       "      <td>3.0</td>\n",
       "      <td>EU</td>\n",
       "      <td>29880.0</td>\n",
       "      <td>3.0</td>\n",
       "      <td>G</td>\n",
       "      <td>14</td>\n",
       "      <td>26</td>\n",
       "    </tr>\n",
       "    <tr>\n",
       "      <th>3</th>\n",
       "      <td>4.0</td>\n",
       "      <td>EU</td>\n",
       "      <td>27360.0</td>\n",
       "      <td>3.0</td>\n",
       "      <td>F</td>\n",
       "      <td>27</td>\n",
       "      <td>39</td>\n",
       "    </tr>\n",
       "    <tr>\n",
       "      <th>4</th>\n",
       "      <td>5.0</td>\n",
       "      <td>EU</td>\n",
       "      <td>30240.0</td>\n",
       "      <td>4.0</td>\n",
       "      <td>G</td>\n",
       "      <td>40</td>\n",
       "      <td>52</td>\n",
       "    </tr>\n",
       "  </tbody>\n",
       "</table>\n",
       "</div>"
      ],
      "text/plain": [
       "   Person Nationality   Salary  Level Communication  Start week  End week\n",
       "0     1.0          EU  10800.0    2.0             E           1        13\n",
       "1     2.0      Non-EU  25200.0    1.0             F          14        26\n",
       "2     3.0          EU  29880.0    3.0             G          14        26\n",
       "3     4.0          EU  27360.0    3.0             F          27        39\n",
       "4     5.0          EU  30240.0    4.0             G          40        52"
      ]
     },
     "execution_count": 107,
     "metadata": {},
     "output_type": "execute_result"
    }
   ],
   "source": [
    "UpdatedEmployees.head()"
   ]
  },
  {
   "cell_type": "markdown",
   "id": "eb763d26",
   "metadata": {},
   "source": [
    "We have completed step 3"
   ]
  },
  {
   "cell_type": "markdown",
   "id": "f27a8d9e",
   "metadata": {},
   "source": [
    "Next we focus on the Certification (now Level) information.\n",
    "Original 1-5 levels have to be transformed to 1-3 levels. Orignal 1-3 should be transformed to 1. \n",
    "Original 4 will now be 2. Original 5 will now be 3. "
   ]
  },
  {
   "cell_type": "code",
   "execution_count": 108,
   "id": "215c339f",
   "metadata": {},
   "outputs": [
    {
     "data": {
      "text/plain": [
       "Person           float64\n",
       "Nationality       object\n",
       "Salary           float64\n",
       "Level            float64\n",
       "Communication     object\n",
       "Start week         int64\n",
       "End week           int64\n",
       "dtype: object"
      ]
     },
     "execution_count": 108,
     "metadata": {},
     "output_type": "execute_result"
    }
   ],
   "source": [
    "UpdatedEmployees.dtypes"
   ]
  },
  {
   "cell_type": "markdown",
   "id": "adc479ee",
   "metadata": {},
   "source": [
    "We will now use the loc method to locate employees with Level at least 5"
   ]
  },
  {
   "cell_type": "code",
   "execution_count": 109,
   "id": "2f56430a",
   "metadata": {},
   "outputs": [],
   "source": [
    "L3Employees = UpdatedEmployees.loc[UpdatedEmployees['Level'] >= 5.0]"
   ]
  },
  {
   "cell_type": "code",
   "execution_count": 110,
   "id": "0247d395",
   "metadata": {},
   "outputs": [
    {
     "name": "stdout",
     "output_type": "stream",
     "text": [
      "    Person Nationality   Salary  Level Communication  Start week  End week\n",
      "5      6.0          EU  43200.0    5.0             E           1        13\n",
      "6      7.0      Non-EU  39600.0    5.0             O          27        39\n",
      "7      8.0      Non-EU  33480.0    5.0             O          40        52\n",
      "14    15.0          EU  10800.0    5.0             G          27        39\n",
      "15    16.0          EU  25200.0    5.0             F          40        52\n",
      "16    17.0          EU  29880.0    5.0             E          40        52\n",
      "23    24.0          EU  19260.0    5.0             F          14        26\n",
      "25    26.0      Non-EU  43200.0    5.0             O           1        13\n",
      "27    28.0          EU  33480.0    5.0             E          40        52\n",
      "28    29.0      Non-EU  18000.0    5.0             O          14        26\n",
      "29    30.0      Non-EU  19260.0    5.0             O          40        52\n",
      "38    39.0          EU  30240.0    5.0             E          27        39\n",
      "39    40.0      Non-EU  43200.0    5.0             E          14        26\n",
      "40    41.0          EU  21600.0    5.0             O          40        52\n",
      "53    54.0          EU  11880.0    5.0             G           1        13\n",
      "58    59.0      Non-EU  18360.0    5.0             O          40        52\n"
     ]
    }
   ],
   "source": [
    "print(L3Employees)"
   ]
  },
  {
   "cell_type": "code",
   "execution_count": 111,
   "id": "3bb1c2e9",
   "metadata": {},
   "outputs": [
    {
     "data": {
      "text/plain": [
       "Person           float64\n",
       "Nationality       object\n",
       "Salary           float64\n",
       "Level            float64\n",
       "Communication     object\n",
       "Start week         int64\n",
       "End week           int64\n",
       "dtype: object"
      ]
     },
     "execution_count": 111,
     "metadata": {},
     "output_type": "execute_result"
    }
   ],
   "source": [
    "L3Employees.dtypes"
   ]
  },
  {
   "cell_type": "markdown",
   "id": "990a7d6f",
   "metadata": {},
   "source": [
    "In our transformed data, this will be level 3"
   ]
  },
  {
   "cell_type": "code",
   "execution_count": 113,
   "id": "24fb16d3",
   "metadata": {},
   "outputs": [
    {
     "name": "stderr",
     "output_type": "stream",
     "text": [
      "C:\\Users\\P301449\\AppData\\Local\\Temp\\13/ipykernel_8992/939124662.py:1: SettingWithCopyWarning: \n",
      "A value is trying to be set on a copy of a slice from a DataFrame.\n",
      "Try using .loc[row_indexer,col_indexer] = value instead\n",
      "\n",
      "See the caveats in the documentation: https://pandas.pydata.org/pandas-docs/stable/user_guide/indexing.html#returning-a-view-versus-a-copy\n",
      "  L3Employees['Level'] = 3.0\n"
     ]
    }
   ],
   "source": [
    "L3Employees['Level'] = 3.0"
   ]
  },
  {
   "cell_type": "code",
   "execution_count": 114,
   "id": "f2f86a0f",
   "metadata": {},
   "outputs": [
    {
     "name": "stdout",
     "output_type": "stream",
     "text": [
      "    Person Nationality   Salary  Level Communication  Start week  End week\n",
      "5      6.0          EU  43200.0    3.0             E           1        13\n",
      "6      7.0      Non-EU  39600.0    3.0             O          27        39\n",
      "7      8.0      Non-EU  33480.0    3.0             O          40        52\n",
      "14    15.0          EU  10800.0    3.0             G          27        39\n",
      "15    16.0          EU  25200.0    3.0             F          40        52\n",
      "16    17.0          EU  29880.0    3.0             E          40        52\n",
      "23    24.0          EU  19260.0    3.0             F          14        26\n",
      "25    26.0      Non-EU  43200.0    3.0             O           1        13\n",
      "27    28.0          EU  33480.0    3.0             E          40        52\n",
      "28    29.0      Non-EU  18000.0    3.0             O          14        26\n",
      "29    30.0      Non-EU  19260.0    3.0             O          40        52\n",
      "38    39.0          EU  30240.0    3.0             E          27        39\n",
      "39    40.0      Non-EU  43200.0    3.0             E          14        26\n",
      "40    41.0          EU  21600.0    3.0             O          40        52\n",
      "53    54.0          EU  11880.0    3.0             G           1        13\n",
      "58    59.0      Non-EU  18360.0    3.0             O          40        52\n"
     ]
    }
   ],
   "source": [
    "print(L3Employees)"
   ]
  },
  {
   "cell_type": "code",
   "execution_count": 116,
   "id": "500d5d2e",
   "metadata": {},
   "outputs": [
    {
     "data": {
      "text/plain": [
       "Person           float64\n",
       "Nationality       object\n",
       "Salary           float64\n",
       "Level            float64\n",
       "Communication     object\n",
       "Start week         int64\n",
       "End week           int64\n",
       "dtype: object"
      ]
     },
     "execution_count": 116,
     "metadata": {},
     "output_type": "execute_result"
    }
   ],
   "source": [
    "L3Employees.dtypes"
   ]
  },
  {
   "cell_type": "markdown",
   "id": "c41c9767",
   "metadata": {},
   "source": [
    "We will act smilarly for the other levels"
   ]
  },
  {
   "cell_type": "code",
   "execution_count": 117,
   "id": "1ab7f0fb",
   "metadata": {},
   "outputs": [],
   "source": [
    "L2Employees = UpdatedEmployees[UpdatedEmployees['Level'] == 4]"
   ]
  },
  {
   "cell_type": "code",
   "execution_count": 118,
   "id": "8e9973cd",
   "metadata": {},
   "outputs": [
    {
     "data": {
      "text/plain": [
       "Person           float64\n",
       "Nationality       object\n",
       "Salary           float64\n",
       "Level            float64\n",
       "Communication     object\n",
       "Start week         int64\n",
       "End week           int64\n",
       "dtype: object"
      ]
     },
     "execution_count": 118,
     "metadata": {},
     "output_type": "execute_result"
    }
   ],
   "source": [
    "L2Employees.dtypes"
   ]
  },
  {
   "cell_type": "code",
   "execution_count": 119,
   "id": "29bed3ac",
   "metadata": {},
   "outputs": [
    {
     "name": "stdout",
     "output_type": "stream",
     "text": [
      "    Person Nationality   Salary  Level Communication  Start week  End week\n",
      "4      5.0          EU  30240.0    4.0             G          40        52\n",
      "8      9.0      Non-EU  18000.0    4.0             O          27        39\n",
      "13    14.0          EU  22320.0    4.0             G           1        13\n",
      "17    18.0          EU  27360.0    4.0             E          40        52\n",
      "24    25.0          EU  30240.0    4.0             G          27        39\n",
      "30    31.0          EU  21600.0    4.0             G           1        13\n",
      "37    38.0          EU  27360.0    4.0             F          14        26\n",
      "41    42.0          EU  22320.0    4.0             E          40        52\n",
      "47    48.0          EU   4320.0    4.0             G          27        39\n",
      "50    51.0      Non-EU  18000.0    4.0             G          40        52\n",
      "54    55.0          EU  14760.0    4.0             F          14        26\n",
      "57    58.0      Non-EU  14400.0    4.0             O          27        39\n"
     ]
    }
   ],
   "source": [
    "print(L2Employees)"
   ]
  },
  {
   "cell_type": "code",
   "execution_count": 120,
   "id": "4efb0a55",
   "metadata": {},
   "outputs": [
    {
     "name": "stderr",
     "output_type": "stream",
     "text": [
      "C:\\Users\\P301449\\AppData\\Local\\Temp\\13/ipykernel_8992/89663372.py:1: SettingWithCopyWarning: \n",
      "A value is trying to be set on a copy of a slice from a DataFrame.\n",
      "Try using .loc[row_indexer,col_indexer] = value instead\n",
      "\n",
      "See the caveats in the documentation: https://pandas.pydata.org/pandas-docs/stable/user_guide/indexing.html#returning-a-view-versus-a-copy\n",
      "  L2Employees['Level'] = 2\n"
     ]
    }
   ],
   "source": [
    "L2Employees['Level'] = 2"
   ]
  },
  {
   "cell_type": "code",
   "execution_count": 121,
   "id": "a51bfc31",
   "metadata": {},
   "outputs": [
    {
     "name": "stdout",
     "output_type": "stream",
     "text": [
      "    Person Nationality   Salary  Level Communication  Start week  End week\n",
      "4      5.0          EU  30240.0      2             G          40        52\n",
      "8      9.0      Non-EU  18000.0      2             O          27        39\n",
      "13    14.0          EU  22320.0      2             G           1        13\n",
      "17    18.0          EU  27360.0      2             E          40        52\n",
      "24    25.0          EU  30240.0      2             G          27        39\n",
      "30    31.0          EU  21600.0      2             G           1        13\n",
      "37    38.0          EU  27360.0      2             F          14        26\n",
      "41    42.0          EU  22320.0      2             E          40        52\n",
      "47    48.0          EU   4320.0      2             G          27        39\n",
      "50    51.0      Non-EU  18000.0      2             G          40        52\n",
      "54    55.0          EU  14760.0      2             F          14        26\n",
      "57    58.0      Non-EU  14400.0      2             O          27        39\n"
     ]
    }
   ],
   "source": [
    "print(L2Employees)"
   ]
  },
  {
   "cell_type": "code",
   "execution_count": 122,
   "id": "751f52e2",
   "metadata": {},
   "outputs": [],
   "source": [
    "L1Employees = UpdatedEmployees.loc[UpdatedEmployees['Level'] <= 2.0]"
   ]
  },
  {
   "cell_type": "code",
   "execution_count": 123,
   "id": "01b135a5",
   "metadata": {},
   "outputs": [
    {
     "name": "stderr",
     "output_type": "stream",
     "text": [
      "C:\\ProgramData\\Anaconda202105\\lib\\site-packages\\pandas\\core\\indexing.py:1817: SettingWithCopyWarning: \n",
      "A value is trying to be set on a copy of a slice from a DataFrame.\n",
      "Try using .loc[row_indexer,col_indexer] = value instead\n",
      "\n",
      "See the caveats in the documentation: https://pandas.pydata.org/pandas-docs/stable/user_guide/indexing.html#returning-a-view-versus-a-copy\n",
      "  self._setitem_single_column(loc, value, pi)\n"
     ]
    }
   ],
   "source": [
    "L1Employees.loc[:,'Level'] = 1"
   ]
  },
  {
   "cell_type": "code",
   "execution_count": 124,
   "id": "af970133",
   "metadata": {
    "scrolled": true
   },
   "outputs": [
    {
     "data": {
      "text/html": [
       "<div>\n",
       "<style scoped>\n",
       "    .dataframe tbody tr th:only-of-type {\n",
       "        vertical-align: middle;\n",
       "    }\n",
       "\n",
       "    .dataframe tbody tr th {\n",
       "        vertical-align: top;\n",
       "    }\n",
       "\n",
       "    .dataframe thead th {\n",
       "        text-align: right;\n",
       "    }\n",
       "</style>\n",
       "<table border=\"1\" class=\"dataframe\">\n",
       "  <thead>\n",
       "    <tr style=\"text-align: right;\">\n",
       "      <th></th>\n",
       "      <th>Person</th>\n",
       "      <th>Nationality</th>\n",
       "      <th>Salary</th>\n",
       "      <th>Level</th>\n",
       "      <th>Communication</th>\n",
       "      <th>Start week</th>\n",
       "      <th>End week</th>\n",
       "    </tr>\n",
       "  </thead>\n",
       "  <tbody>\n",
       "    <tr>\n",
       "      <th>0</th>\n",
       "      <td>1.0</td>\n",
       "      <td>EU</td>\n",
       "      <td>10800.0</td>\n",
       "      <td>1</td>\n",
       "      <td>E</td>\n",
       "      <td>1</td>\n",
       "      <td>13</td>\n",
       "    </tr>\n",
       "    <tr>\n",
       "      <th>1</th>\n",
       "      <td>2.0</td>\n",
       "      <td>Non-EU</td>\n",
       "      <td>25200.0</td>\n",
       "      <td>1</td>\n",
       "      <td>F</td>\n",
       "      <td>14</td>\n",
       "      <td>26</td>\n",
       "    </tr>\n",
       "    <tr>\n",
       "      <th>9</th>\n",
       "      <td>10.0</td>\n",
       "      <td>EU</td>\n",
       "      <td>19260.0</td>\n",
       "      <td>1</td>\n",
       "      <td>E</td>\n",
       "      <td>14</td>\n",
       "      <td>26</td>\n",
       "    </tr>\n",
       "    <tr>\n",
       "      <th>10</th>\n",
       "      <td>11.0</td>\n",
       "      <td>Non-EU</td>\n",
       "      <td>21600.0</td>\n",
       "      <td>1</td>\n",
       "      <td>O</td>\n",
       "      <td>1</td>\n",
       "      <td>13</td>\n",
       "    </tr>\n",
       "    <tr>\n",
       "      <th>19</th>\n",
       "      <td>20.0</td>\n",
       "      <td>EU</td>\n",
       "      <td>43200.0</td>\n",
       "      <td>1</td>\n",
       "      <td>E</td>\n",
       "      <td>1</td>\n",
       "      <td>13</td>\n",
       "    </tr>\n",
       "  </tbody>\n",
       "</table>\n",
       "</div>"
      ],
      "text/plain": [
       "    Person Nationality   Salary  Level Communication  Start week  End week\n",
       "0      1.0          EU  10800.0      1             E           1        13\n",
       "1      2.0      Non-EU  25200.0      1             F          14        26\n",
       "9     10.0          EU  19260.0      1             E          14        26\n",
       "10    11.0      Non-EU  21600.0      1             O           1        13\n",
       "19    20.0          EU  43200.0      1             E           1        13"
      ]
     },
     "execution_count": 124,
     "metadata": {},
     "output_type": "execute_result"
    }
   ],
   "source": [
    "L1Employees.head()"
   ]
  },
  {
   "cell_type": "markdown",
   "id": "cce64b3a",
   "metadata": {},
   "source": [
    "Although we could already filter the data, at this stage we are interested in the data integration. Let's sort the employees according to their original order. We first merge the different lists, then sort them. "
   ]
  },
  {
   "cell_type": "code",
   "execution_count": 126,
   "id": "68229f0b",
   "metadata": {},
   "outputs": [],
   "source": [
    "QualificationEmployees = L1Employees.append([L2Employees,L3Employees])"
   ]
  },
  {
   "cell_type": "code",
   "execution_count": 127,
   "id": "f7e4547c",
   "metadata": {},
   "outputs": [],
   "source": [
    "QualificationEmployees.sort_index(inplace=True)"
   ]
  },
  {
   "cell_type": "code",
   "execution_count": 128,
   "id": "89966d84",
   "metadata": {},
   "outputs": [
    {
     "data": {
      "text/html": [
       "<div>\n",
       "<style scoped>\n",
       "    .dataframe tbody tr th:only-of-type {\n",
       "        vertical-align: middle;\n",
       "    }\n",
       "\n",
       "    .dataframe tbody tr th {\n",
       "        vertical-align: top;\n",
       "    }\n",
       "\n",
       "    .dataframe thead th {\n",
       "        text-align: right;\n",
       "    }\n",
       "</style>\n",
       "<table border=\"1\" class=\"dataframe\">\n",
       "  <thead>\n",
       "    <tr style=\"text-align: right;\">\n",
       "      <th></th>\n",
       "      <th>Person</th>\n",
       "      <th>Nationality</th>\n",
       "      <th>Salary</th>\n",
       "      <th>Level</th>\n",
       "      <th>Communication</th>\n",
       "      <th>Start week</th>\n",
       "      <th>End week</th>\n",
       "    </tr>\n",
       "  </thead>\n",
       "  <tbody>\n",
       "    <tr>\n",
       "      <th>0</th>\n",
       "      <td>1.0</td>\n",
       "      <td>EU</td>\n",
       "      <td>10800.0</td>\n",
       "      <td>1.0</td>\n",
       "      <td>E</td>\n",
       "      <td>1</td>\n",
       "      <td>13</td>\n",
       "    </tr>\n",
       "    <tr>\n",
       "      <th>1</th>\n",
       "      <td>2.0</td>\n",
       "      <td>Non-EU</td>\n",
       "      <td>25200.0</td>\n",
       "      <td>1.0</td>\n",
       "      <td>F</td>\n",
       "      <td>14</td>\n",
       "      <td>26</td>\n",
       "    </tr>\n",
       "    <tr>\n",
       "      <th>4</th>\n",
       "      <td>5.0</td>\n",
       "      <td>EU</td>\n",
       "      <td>30240.0</td>\n",
       "      <td>2.0</td>\n",
       "      <td>G</td>\n",
       "      <td>40</td>\n",
       "      <td>52</td>\n",
       "    </tr>\n",
       "    <tr>\n",
       "      <th>5</th>\n",
       "      <td>6.0</td>\n",
       "      <td>EU</td>\n",
       "      <td>43200.0</td>\n",
       "      <td>3.0</td>\n",
       "      <td>E</td>\n",
       "      <td>1</td>\n",
       "      <td>13</td>\n",
       "    </tr>\n",
       "    <tr>\n",
       "      <th>6</th>\n",
       "      <td>7.0</td>\n",
       "      <td>Non-EU</td>\n",
       "      <td>39600.0</td>\n",
       "      <td>3.0</td>\n",
       "      <td>O</td>\n",
       "      <td>27</td>\n",
       "      <td>39</td>\n",
       "    </tr>\n",
       "  </tbody>\n",
       "</table>\n",
       "</div>"
      ],
      "text/plain": [
       "   Person Nationality   Salary  Level Communication  Start week  End week\n",
       "0     1.0          EU  10800.0    1.0             E           1        13\n",
       "1     2.0      Non-EU  25200.0    1.0             F          14        26\n",
       "4     5.0          EU  30240.0    2.0             G          40        52\n",
       "5     6.0          EU  43200.0    3.0             E           1        13\n",
       "6     7.0      Non-EU  39600.0    3.0             O          27        39"
      ]
     },
     "execution_count": 128,
     "metadata": {},
     "output_type": "execute_result"
    }
   ],
   "source": [
    "QualificationEmployees.head()"
   ]
  },
  {
   "cell_type": "code",
   "execution_count": 129,
   "id": "f4fe8081",
   "metadata": {},
   "outputs": [
    {
     "name": "stdout",
     "output_type": "stream",
     "text": [
      "    Person Nationality   Salary  Level Communication  Start week  End week\n",
      "0      1.0          EU  10800.0    1.0             E           1        13\n",
      "1      2.0      Non-EU  25200.0    1.0             F          14        26\n",
      "4      5.0          EU  30240.0    2.0             G          40        52\n",
      "5      6.0          EU  43200.0    3.0             E           1        13\n",
      "6      7.0      Non-EU  39600.0    3.0             O          27        39\n",
      "7      8.0      Non-EU  33480.0    3.0             O          40        52\n",
      "8      9.0      Non-EU  18000.0    2.0             O          27        39\n",
      "9     10.0          EU  19260.0    1.0             E          14        26\n",
      "10    11.0      Non-EU  21600.0    1.0             O           1        13\n",
      "13    14.0          EU  22320.0    2.0             G           1        13\n",
      "14    15.0          EU  10800.0    3.0             G          27        39\n",
      "15    16.0          EU  25200.0    3.0             F          40        52\n",
      "16    17.0          EU  29880.0    3.0             E          40        52\n",
      "17    18.0          EU  27360.0    2.0             E          40        52\n",
      "19    20.0          EU  43200.0    1.0             E           1        13\n",
      "23    24.0          EU  19260.0    3.0             F          14        26\n",
      "24    25.0          EU  30240.0    2.0             G          27        39\n",
      "25    26.0      Non-EU  43200.0    3.0             O           1        13\n",
      "26    27.0      Non-EU  39600.0    1.0             O          27        39\n",
      "27    28.0          EU  33480.0    3.0             E          40        52\n",
      "28    29.0      Non-EU  18000.0    3.0             O          14        26\n",
      "29    30.0      Non-EU  19260.0    3.0             O          40        52\n",
      "30    31.0          EU  21600.0    2.0             G           1        13\n",
      "31    32.0          EU  26100.0    1.0             G          14        26\n",
      "32    33.0          EU  21600.0    1.0             O          27        39\n",
      "33    34.0      Non-EU  22320.0    1.0             O           1        13\n",
      "34    35.0          EU  10800.0    1.0             O           1        13\n",
      "37    38.0          EU  27360.0    2.0             F          14        26\n",
      "38    39.0          EU  30240.0    3.0             E          27        39\n",
      "39    40.0      Non-EU  43200.0    3.0             E          14        26\n",
      "40    41.0          EU  21600.0    3.0             O          40        52\n",
      "41    42.0          EU  22320.0    2.0             E          40        52\n",
      "43    44.0      Non-EU  25200.0    1.0             O          40        52\n",
      "47    48.0          EU   4320.0    2.0             G          27        39\n",
      "48    49.0          EU  39600.0    1.0             G           1        13\n",
      "50    51.0      Non-EU  18000.0    2.0             G          40        52\n",
      "51    52.0          EU  19260.0    1.0             O          27        39\n",
      "52    53.0      Non-EU  10368.0    1.0             O          14        26\n",
      "53    54.0          EU  11880.0    3.0             G           1        13\n",
      "54    55.0          EU  14760.0    2.0             F          14        26\n",
      "55    56.0          EU  14400.0    1.0             E          27        39\n",
      "57    58.0      Non-EU  14400.0    2.0             O          27        39\n",
      "58    59.0      Non-EU  18360.0    3.0             O          40        52\n",
      "59    60.0          EU  18720.0    1.0             G          40        52\n"
     ]
    }
   ],
   "source": [
    "print(QualificationEmployees)"
   ]
  },
  {
   "cell_type": "code",
   "execution_count": 130,
   "id": "a28fe521",
   "metadata": {},
   "outputs": [
    {
     "data": {
      "text/html": [
       "<div>\n",
       "<style scoped>\n",
       "    .dataframe tbody tr th:only-of-type {\n",
       "        vertical-align: middle;\n",
       "    }\n",
       "\n",
       "    .dataframe tbody tr th {\n",
       "        vertical-align: top;\n",
       "    }\n",
       "\n",
       "    .dataframe thead th {\n",
       "        text-align: right;\n",
       "    }\n",
       "</style>\n",
       "<table border=\"1\" class=\"dataframe\">\n",
       "  <thead>\n",
       "    <tr style=\"text-align: right;\">\n",
       "      <th></th>\n",
       "      <th>Person</th>\n",
       "      <th>Nationality</th>\n",
       "      <th>Salary</th>\n",
       "      <th>Level</th>\n",
       "      <th>Communication</th>\n",
       "      <th>Start week</th>\n",
       "      <th>End week</th>\n",
       "    </tr>\n",
       "  </thead>\n",
       "  <tbody>\n",
       "    <tr>\n",
       "      <th>0</th>\n",
       "      <td>1.0</td>\n",
       "      <td>EU</td>\n",
       "      <td>10800.0</td>\n",
       "      <td>1.0</td>\n",
       "      <td>E</td>\n",
       "      <td>1</td>\n",
       "      <td>13</td>\n",
       "    </tr>\n",
       "    <tr>\n",
       "      <th>1</th>\n",
       "      <td>2.0</td>\n",
       "      <td>Non-EU</td>\n",
       "      <td>25200.0</td>\n",
       "      <td>1.0</td>\n",
       "      <td>F</td>\n",
       "      <td>14</td>\n",
       "      <td>26</td>\n",
       "    </tr>\n",
       "    <tr>\n",
       "      <th>4</th>\n",
       "      <td>5.0</td>\n",
       "      <td>EU</td>\n",
       "      <td>30240.0</td>\n",
       "      <td>2.0</td>\n",
       "      <td>G</td>\n",
       "      <td>40</td>\n",
       "      <td>52</td>\n",
       "    </tr>\n",
       "    <tr>\n",
       "      <th>5</th>\n",
       "      <td>6.0</td>\n",
       "      <td>EU</td>\n",
       "      <td>43200.0</td>\n",
       "      <td>3.0</td>\n",
       "      <td>E</td>\n",
       "      <td>1</td>\n",
       "      <td>13</td>\n",
       "    </tr>\n",
       "    <tr>\n",
       "      <th>6</th>\n",
       "      <td>7.0</td>\n",
       "      <td>Non-EU</td>\n",
       "      <td>39600.0</td>\n",
       "      <td>3.0</td>\n",
       "      <td>O</td>\n",
       "      <td>27</td>\n",
       "      <td>39</td>\n",
       "    </tr>\n",
       "  </tbody>\n",
       "</table>\n",
       "</div>"
      ],
      "text/plain": [
       "   Person Nationality   Salary  Level Communication  Start week  End week\n",
       "0     1.0          EU  10800.0    1.0             E           1        13\n",
       "1     2.0      Non-EU  25200.0    1.0             F          14        26\n",
       "4     5.0          EU  30240.0    2.0             G          40        52\n",
       "5     6.0          EU  43200.0    3.0             E           1        13\n",
       "6     7.0      Non-EU  39600.0    3.0             O          27        39"
      ]
     },
     "execution_count": 130,
     "metadata": {},
     "output_type": "execute_result"
    }
   ],
   "source": [
    "QualificationEmployees.head(5)"
   ]
  },
  {
   "cell_type": "markdown",
   "id": "9b1734d0",
   "metadata": {},
   "source": [
    "We now need to add the PartTime column to bring the data to the target format, assigning it a default value "
   ]
  },
  {
   "cell_type": "code",
   "execution_count": 131,
   "id": "a379c514",
   "metadata": {},
   "outputs": [],
   "source": [
    "QualificationEmployees['PartTime']='100'"
   ]
  },
  {
   "cell_type": "code",
   "execution_count": 132,
   "id": "ce5c83f2",
   "metadata": {},
   "outputs": [
    {
     "data": {
      "text/html": [
       "<div>\n",
       "<style scoped>\n",
       "    .dataframe tbody tr th:only-of-type {\n",
       "        vertical-align: middle;\n",
       "    }\n",
       "\n",
       "    .dataframe tbody tr th {\n",
       "        vertical-align: top;\n",
       "    }\n",
       "\n",
       "    .dataframe thead th {\n",
       "        text-align: right;\n",
       "    }\n",
       "</style>\n",
       "<table border=\"1\" class=\"dataframe\">\n",
       "  <thead>\n",
       "    <tr style=\"text-align: right;\">\n",
       "      <th></th>\n",
       "      <th>Person</th>\n",
       "      <th>Nationality</th>\n",
       "      <th>Salary</th>\n",
       "      <th>Level</th>\n",
       "      <th>Communication</th>\n",
       "      <th>Start week</th>\n",
       "      <th>End week</th>\n",
       "      <th>PartTime</th>\n",
       "    </tr>\n",
       "  </thead>\n",
       "  <tbody>\n",
       "    <tr>\n",
       "      <th>0</th>\n",
       "      <td>1.0</td>\n",
       "      <td>EU</td>\n",
       "      <td>10800.0</td>\n",
       "      <td>1.0</td>\n",
       "      <td>E</td>\n",
       "      <td>1</td>\n",
       "      <td>13</td>\n",
       "      <td>100</td>\n",
       "    </tr>\n",
       "    <tr>\n",
       "      <th>1</th>\n",
       "      <td>2.0</td>\n",
       "      <td>Non-EU</td>\n",
       "      <td>25200.0</td>\n",
       "      <td>1.0</td>\n",
       "      <td>F</td>\n",
       "      <td>14</td>\n",
       "      <td>26</td>\n",
       "      <td>100</td>\n",
       "    </tr>\n",
       "    <tr>\n",
       "      <th>4</th>\n",
       "      <td>5.0</td>\n",
       "      <td>EU</td>\n",
       "      <td>30240.0</td>\n",
       "      <td>2.0</td>\n",
       "      <td>G</td>\n",
       "      <td>40</td>\n",
       "      <td>52</td>\n",
       "      <td>100</td>\n",
       "    </tr>\n",
       "    <tr>\n",
       "      <th>5</th>\n",
       "      <td>6.0</td>\n",
       "      <td>EU</td>\n",
       "      <td>43200.0</td>\n",
       "      <td>3.0</td>\n",
       "      <td>E</td>\n",
       "      <td>1</td>\n",
       "      <td>13</td>\n",
       "      <td>100</td>\n",
       "    </tr>\n",
       "    <tr>\n",
       "      <th>6</th>\n",
       "      <td>7.0</td>\n",
       "      <td>Non-EU</td>\n",
       "      <td>39600.0</td>\n",
       "      <td>3.0</td>\n",
       "      <td>O</td>\n",
       "      <td>27</td>\n",
       "      <td>39</td>\n",
       "      <td>100</td>\n",
       "    </tr>\n",
       "  </tbody>\n",
       "</table>\n",
       "</div>"
      ],
      "text/plain": [
       "   Person Nationality   Salary  Level Communication  Start week  End week  \\\n",
       "0     1.0          EU  10800.0    1.0             E           1        13   \n",
       "1     2.0      Non-EU  25200.0    1.0             F          14        26   \n",
       "4     5.0          EU  30240.0    2.0             G          40        52   \n",
       "5     6.0          EU  43200.0    3.0             E           1        13   \n",
       "6     7.0      Non-EU  39600.0    3.0             O          27        39   \n",
       "\n",
       "  PartTime  \n",
       "0      100  \n",
       "1      100  \n",
       "4      100  \n",
       "5      100  \n",
       "6      100  "
      ]
     },
     "execution_count": 132,
     "metadata": {},
     "output_type": "execute_result"
    }
   ],
   "source": [
    "QualificationEmployees.head(5)"
   ]
  },
  {
   "cell_type": "markdown",
   "id": "b0b4a3aa",
   "metadata": {},
   "source": [
    "Our data transformation is now complete and we are ready to apply \"personnel selection filters\""
   ]
  },
  {
   "cell_type": "code",
   "execution_count": 136,
   "id": "b876c06d",
   "metadata": {},
   "outputs": [],
   "source": [
    "Selected = QualificationEmployees[(QualificationEmployees['Nationality'] == 'EU') & (QualificationEmployees['Level'] > 1) & QualificationEmployees['Communication'].isin(['E','F']) & (QualificationEmployees['Start week']  < 48) & (QualificationEmployees['End week']  > 50)]"
   ]
  },
  {
   "cell_type": "markdown",
   "id": "c8d8dd1e",
   "metadata": {},
   "source": [
    "Take a moment to look at the structure of the command. It summarises different filtering methods all in on line. "
   ]
  },
  {
   "cell_type": "code",
   "execution_count": 138,
   "id": "2d67d810",
   "metadata": {},
   "outputs": [
    {
     "data": {
      "text/html": [
       "<div>\n",
       "<style scoped>\n",
       "    .dataframe tbody tr th:only-of-type {\n",
       "        vertical-align: middle;\n",
       "    }\n",
       "\n",
       "    .dataframe tbody tr th {\n",
       "        vertical-align: top;\n",
       "    }\n",
       "\n",
       "    .dataframe thead th {\n",
       "        text-align: right;\n",
       "    }\n",
       "</style>\n",
       "<table border=\"1\" class=\"dataframe\">\n",
       "  <thead>\n",
       "    <tr style=\"text-align: right;\">\n",
       "      <th></th>\n",
       "      <th>Person</th>\n",
       "      <th>Nationality</th>\n",
       "      <th>Salary</th>\n",
       "      <th>Level</th>\n",
       "      <th>Communication</th>\n",
       "      <th>Start week</th>\n",
       "      <th>End week</th>\n",
       "      <th>PartTime</th>\n",
       "    </tr>\n",
       "  </thead>\n",
       "  <tbody>\n",
       "    <tr>\n",
       "      <th>15</th>\n",
       "      <td>16.0</td>\n",
       "      <td>EU</td>\n",
       "      <td>25200.0</td>\n",
       "      <td>3.0</td>\n",
       "      <td>F</td>\n",
       "      <td>40</td>\n",
       "      <td>52</td>\n",
       "      <td>100</td>\n",
       "    </tr>\n",
       "    <tr>\n",
       "      <th>16</th>\n",
       "      <td>17.0</td>\n",
       "      <td>EU</td>\n",
       "      <td>29880.0</td>\n",
       "      <td>3.0</td>\n",
       "      <td>E</td>\n",
       "      <td>40</td>\n",
       "      <td>52</td>\n",
       "      <td>100</td>\n",
       "    </tr>\n",
       "    <tr>\n",
       "      <th>17</th>\n",
       "      <td>18.0</td>\n",
       "      <td>EU</td>\n",
       "      <td>27360.0</td>\n",
       "      <td>2.0</td>\n",
       "      <td>E</td>\n",
       "      <td>40</td>\n",
       "      <td>52</td>\n",
       "      <td>100</td>\n",
       "    </tr>\n",
       "    <tr>\n",
       "      <th>27</th>\n",
       "      <td>28.0</td>\n",
       "      <td>EU</td>\n",
       "      <td>33480.0</td>\n",
       "      <td>3.0</td>\n",
       "      <td>E</td>\n",
       "      <td>40</td>\n",
       "      <td>52</td>\n",
       "      <td>100</td>\n",
       "    </tr>\n",
       "    <tr>\n",
       "      <th>41</th>\n",
       "      <td>42.0</td>\n",
       "      <td>EU</td>\n",
       "      <td>22320.0</td>\n",
       "      <td>2.0</td>\n",
       "      <td>E</td>\n",
       "      <td>40</td>\n",
       "      <td>52</td>\n",
       "      <td>100</td>\n",
       "    </tr>\n",
       "  </tbody>\n",
       "</table>\n",
       "</div>"
      ],
      "text/plain": [
       "    Person Nationality   Salary  Level Communication  Start week  End week  \\\n",
       "15    16.0          EU  25200.0    3.0             F          40        52   \n",
       "16    17.0          EU  29880.0    3.0             E          40        52   \n",
       "17    18.0          EU  27360.0    2.0             E          40        52   \n",
       "27    28.0          EU  33480.0    3.0             E          40        52   \n",
       "41    42.0          EU  22320.0    2.0             E          40        52   \n",
       "\n",
       "   PartTime  \n",
       "15      100  \n",
       "16      100  \n",
       "17      100  \n",
       "27      100  \n",
       "41      100  "
      ]
     },
     "execution_count": 138,
     "metadata": {},
     "output_type": "execute_result"
    }
   ],
   "source": [
    "Selected.head()"
   ]
  },
  {
   "cell_type": "markdown",
   "id": "20497926",
   "metadata": {},
   "source": [
    "Now both our data transformation and selection are complete!"
   ]
  }
 ],
 "metadata": {
  "kernelspec": {
   "display_name": "Python 3 (ipykernel)",
   "language": "python",
   "name": "python3"
  },
  "language_info": {
   "codemirror_mode": {
    "name": "ipython",
    "version": 3
   },
   "file_extension": ".py",
   "mimetype": "text/x-python",
   "name": "python",
   "nbconvert_exporter": "python",
   "pygments_lexer": "ipython3",
   "version": "3.9.7"
  }
 },
 "nbformat": 4,
 "nbformat_minor": 5
}
