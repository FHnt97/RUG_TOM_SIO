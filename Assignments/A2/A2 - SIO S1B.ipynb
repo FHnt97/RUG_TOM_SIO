{
 "cells": [
  {
   "cell_type": "markdown",
   "id": "35f7b279",
   "metadata": {},
   "source": [
    "# Assignment 2\n",
    "**Author:** F.F. Höhne Tarragona _S4605632_ <br>\n",
    "**Course:** Smart Industry Operations _EBM223A05.2021-2022.1B_ <br>\n",
    "**Lecturer:** Dr Christos Emmanouilidis <br>\n",
    "\n",
    "**2021-12-17**\n",
    "\n",
    "\n",
    "For this assignment, we are requested to pre-select potential employees. For the selected potential employees; return them as a list including their complete record in uniform format for all  returned employees. \n",
    "\n",
    "The following steps are to be considered:\n",
    "1. We need to add a column for the intended department of the  employee. \n",
    "2. Prospective employees should be from the European Union, Norway, and the  UK. \n",
    "3. Specifically, you are required to select employees for:  \n",
    "    1. The finance department\n",
    "    2. with skills at least in Planning \n",
    "    3. a minimum of 4 years  experience\n",
    "    4. Spoken language should be three out of Dutch, English, French, Spanish, and  Dutch\n",
    "    5. Employees should not be at the lowest two tiers of performance.\n",
    "\n",
    "\n",
    "## Step 1: Reading the data\n",
    "As a first step, we import the needed librabries and we open the dataset. "
   ]
  },
  {
   "cell_type": "code",
   "execution_count": 145,
   "id": "93838125",
   "metadata": {},
   "outputs": [],
   "source": [
    "import pandas as pd\n",
    "import numpy as np\n",
    "from countrygroups import EUROPEAN_UNION"
   ]
  },
  {
   "cell_type": "code",
   "execution_count": 4,
   "id": "f8eb8c63",
   "metadata": {},
   "outputs": [],
   "source": [
    "# read in data specifying seperator/delimiter\n",
    "employeeData = pd.read_csv('DataAssignment2.csv', sep=',')"
   ]
  },
  {
   "cell_type": "markdown",
   "id": "8e7556f8",
   "metadata": {},
   "source": [
    "We then do a preliminary analysis of the data, looking at the shape, type, and form of data; and getting an idea of the values for each attribute. \n",
    "\n",
    "It is important to look for consistency and lack ther of, as well as null values in the table. "
   ]
  },
  {
   "cell_type": "code",
   "execution_count": 9,
   "id": "402d4ee0",
   "metadata": {},
   "outputs": [
    {
     "data": {
      "text/plain": [
       "(1000, 21)"
      ]
     },
     "execution_count": 9,
     "metadata": {},
     "output_type": "execute_result"
    }
   ],
   "source": [
    "employeeData.shape"
   ]
  },
  {
   "cell_type": "code",
   "execution_count": 18,
   "id": "7dbc4af5",
   "metadata": {},
   "outputs": [
    {
     "data": {
      "text/html": [
       "<div>\n",
       "<style scoped>\n",
       "    .dataframe tbody tr th:only-of-type {\n",
       "        vertical-align: middle;\n",
       "    }\n",
       "\n",
       "    .dataframe tbody tr th {\n",
       "        vertical-align: top;\n",
       "    }\n",
       "\n",
       "    .dataframe thead th {\n",
       "        text-align: right;\n",
       "    }\n",
       "</style>\n",
       "<table border=\"1\" class=\"dataframe\">\n",
       "  <thead>\n",
       "    <tr style=\"text-align: right;\">\n",
       "      <th></th>\n",
       "      <th>RecID</th>\n",
       "      <th>First Name</th>\n",
       "      <th>Surname</th>\n",
       "      <th>Gender</th>\n",
       "      <th>Age</th>\n",
       "      <th>Date of birth</th>\n",
       "      <th>Years of experience</th>\n",
       "      <th>Education Level</th>\n",
       "      <th>Country</th>\n",
       "      <th>Performance</th>\n",
       "      <th>...</th>\n",
       "      <th>Machining</th>\n",
       "      <th>Welding</th>\n",
       "      <th>Additive</th>\n",
       "      <th>Painting</th>\n",
       "      <th>Control</th>\n",
       "      <th>Quality</th>\n",
       "      <th>Planning</th>\n",
       "      <th>Services</th>\n",
       "      <th>Shipping</th>\n",
       "      <th>spoken languages</th>\n",
       "    </tr>\n",
       "  </thead>\n",
       "  <tbody>\n",
       "    <tr>\n",
       "      <th>0</th>\n",
       "      <td>0660900YMA</td>\n",
       "      <td>Kurt</td>\n",
       "      <td>Jensen</td>\n",
       "      <td>male</td>\n",
       "      <td>62</td>\n",
       "      <td>04/07/1959</td>\n",
       "      <td>10</td>\n",
       "      <td>master</td>\n",
       "      <td>Republic of South Africa</td>\n",
       "      <td>94</td>\n",
       "      <td>...</td>\n",
       "      <td>YES</td>\n",
       "      <td>YES</td>\n",
       "      <td>YES</td>\n",
       "      <td>NO</td>\n",
       "      <td>NO</td>\n",
       "      <td>NO</td>\n",
       "      <td>YES</td>\n",
       "      <td>NO</td>\n",
       "      <td>NO</td>\n",
       "      <td>EN,SP,NL,GE,IT,</td>\n",
       "    </tr>\n",
       "    <tr>\n",
       "      <th>1</th>\n",
       "      <td>5612835CHK</td>\n",
       "      <td>Joann</td>\n",
       "      <td>Woodward</td>\n",
       "      <td>female</td>\n",
       "      <td>39</td>\n",
       "      <td>11/11/1982</td>\n",
       "      <td>9</td>\n",
       "      <td>upper secondary</td>\n",
       "      <td>Italy</td>\n",
       "      <td>C</td>\n",
       "      <td>...</td>\n",
       "      <td>YES</td>\n",
       "      <td>NO</td>\n",
       "      <td>NO</td>\n",
       "      <td>NO</td>\n",
       "      <td>NO</td>\n",
       "      <td>NO</td>\n",
       "      <td>YES</td>\n",
       "      <td>NO</td>\n",
       "      <td>YES</td>\n",
       "      <td>EN,F,NL,GE,</td>\n",
       "    </tr>\n",
       "    <tr>\n",
       "      <th>2</th>\n",
       "      <td>6313047ALD</td>\n",
       "      <td>Thomas</td>\n",
       "      <td>Belcher</td>\n",
       "      <td>female</td>\n",
       "      <td>44</td>\n",
       "      <td>25/12/1976</td>\n",
       "      <td>17</td>\n",
       "      <td>technical</td>\n",
       "      <td>USA</td>\n",
       "      <td>89</td>\n",
       "      <td>...</td>\n",
       "      <td>NO</td>\n",
       "      <td>YES</td>\n",
       "      <td>YES</td>\n",
       "      <td>YES</td>\n",
       "      <td>YES</td>\n",
       "      <td>NO</td>\n",
       "      <td>YES</td>\n",
       "      <td>YES</td>\n",
       "      <td>NO</td>\n",
       "      <td>NL,GE,IT,</td>\n",
       "    </tr>\n",
       "    <tr>\n",
       "      <th>3</th>\n",
       "      <td>4216935AQI</td>\n",
       "      <td>Patricia</td>\n",
       "      <td>Cirrincione</td>\n",
       "      <td>female</td>\n",
       "      <td>39</td>\n",
       "      <td>22/08/1982</td>\n",
       "      <td>13</td>\n",
       "      <td>master</td>\n",
       "      <td>Brazil</td>\n",
       "      <td>C</td>\n",
       "      <td>...</td>\n",
       "      <td>YES</td>\n",
       "      <td>YES</td>\n",
       "      <td>YES</td>\n",
       "      <td>NO</td>\n",
       "      <td>NO</td>\n",
       "      <td>YES</td>\n",
       "      <td>YES</td>\n",
       "      <td>YES</td>\n",
       "      <td>YES</td>\n",
       "      <td>EN,F,NL,GE,IT,</td>\n",
       "    </tr>\n",
       "    <tr>\n",
       "      <th>4</th>\n",
       "      <td>2765119WTR</td>\n",
       "      <td>Reginald</td>\n",
       "      <td>Fogg</td>\n",
       "      <td>male</td>\n",
       "      <td>54</td>\n",
       "      <td>11/09/1967</td>\n",
       "      <td>21</td>\n",
       "      <td>doctorate</td>\n",
       "      <td>Sweden</td>\n",
       "      <td>B</td>\n",
       "      <td>...</td>\n",
       "      <td>NO</td>\n",
       "      <td>YES</td>\n",
       "      <td>NO</td>\n",
       "      <td>NO</td>\n",
       "      <td>NO</td>\n",
       "      <td>YES</td>\n",
       "      <td>NO</td>\n",
       "      <td>YES</td>\n",
       "      <td>NO</td>\n",
       "      <td>F,SP,</td>\n",
       "    </tr>\n",
       "    <tr>\n",
       "      <th>5</th>\n",
       "      <td>5863686WTY</td>\n",
       "      <td>Christina</td>\n",
       "      <td>Butts</td>\n",
       "      <td>female</td>\n",
       "      <td>62</td>\n",
       "      <td>11/08/1959</td>\n",
       "      <td>23</td>\n",
       "      <td>bachelor</td>\n",
       "      <td>Malta</td>\n",
       "      <td>24</td>\n",
       "      <td>...</td>\n",
       "      <td>NO</td>\n",
       "      <td>YES</td>\n",
       "      <td>YES</td>\n",
       "      <td>NO</td>\n",
       "      <td>NO</td>\n",
       "      <td>YES</td>\n",
       "      <td>YES</td>\n",
       "      <td>NO</td>\n",
       "      <td>YES</td>\n",
       "      <td>NL,IT,</td>\n",
       "    </tr>\n",
       "    <tr>\n",
       "      <th>6</th>\n",
       "      <td>5170070JEI</td>\n",
       "      <td>Freida</td>\n",
       "      <td>Bailey</td>\n",
       "      <td>female</td>\n",
       "      <td>50</td>\n",
       "      <td>30/11/1971</td>\n",
       "      <td>24</td>\n",
       "      <td>technical</td>\n",
       "      <td>France</td>\n",
       "      <td>11</td>\n",
       "      <td>...</td>\n",
       "      <td>YES</td>\n",
       "      <td>YES</td>\n",
       "      <td>YES</td>\n",
       "      <td>YES</td>\n",
       "      <td>NO</td>\n",
       "      <td>NO</td>\n",
       "      <td>YES</td>\n",
       "      <td>NO</td>\n",
       "      <td>YES</td>\n",
       "      <td>F,NL,GE,IT,</td>\n",
       "    </tr>\n",
       "    <tr>\n",
       "      <th>7</th>\n",
       "      <td>8127770BEB</td>\n",
       "      <td>Gloria</td>\n",
       "      <td>Twyman</td>\n",
       "      <td>female</td>\n",
       "      <td>30</td>\n",
       "      <td>18/02/1991</td>\n",
       "      <td>0</td>\n",
       "      <td>technical</td>\n",
       "      <td>Romania</td>\n",
       "      <td>55</td>\n",
       "      <td>...</td>\n",
       "      <td>NO</td>\n",
       "      <td>YES</td>\n",
       "      <td>YES</td>\n",
       "      <td>NO</td>\n",
       "      <td>NO</td>\n",
       "      <td>NO</td>\n",
       "      <td>NO</td>\n",
       "      <td>NO</td>\n",
       "      <td>NO</td>\n",
       "      <td>NL,GE,</td>\n",
       "    </tr>\n",
       "    <tr>\n",
       "      <th>8</th>\n",
       "      <td>9980683KSC</td>\n",
       "      <td>Robert</td>\n",
       "      <td>Turnipseed</td>\n",
       "      <td>male</td>\n",
       "      <td>64</td>\n",
       "      <td>04/12/1957</td>\n",
       "      <td>17</td>\n",
       "      <td>master</td>\n",
       "      <td>Belgium</td>\n",
       "      <td>50</td>\n",
       "      <td>...</td>\n",
       "      <td>NO</td>\n",
       "      <td>YES</td>\n",
       "      <td>NO</td>\n",
       "      <td>NO</td>\n",
       "      <td>YES</td>\n",
       "      <td>NO</td>\n",
       "      <td>NO</td>\n",
       "      <td>YES</td>\n",
       "      <td>NO</td>\n",
       "      <td>F,</td>\n",
       "    </tr>\n",
       "    <tr>\n",
       "      <th>9</th>\n",
       "      <td>9830617VWN</td>\n",
       "      <td>Sarah</td>\n",
       "      <td>Torres</td>\n",
       "      <td>female</td>\n",
       "      <td>41</td>\n",
       "      <td>03/02/1980</td>\n",
       "      <td>15</td>\n",
       "      <td>technical</td>\n",
       "      <td>Malta</td>\n",
       "      <td>E</td>\n",
       "      <td>...</td>\n",
       "      <td>NO</td>\n",
       "      <td>NO</td>\n",
       "      <td>NO</td>\n",
       "      <td>YES</td>\n",
       "      <td>NO</td>\n",
       "      <td>YES</td>\n",
       "      <td>NO</td>\n",
       "      <td>YES</td>\n",
       "      <td>YES</td>\n",
       "      <td>EN,SP,</td>\n",
       "    </tr>\n",
       "  </tbody>\n",
       "</table>\n",
       "<p>10 rows × 21 columns</p>\n",
       "</div>"
      ],
      "text/plain": [
       "        RecID First Name      Surname  Gender  Age Date of birth  \\\n",
       "0  0660900YMA       Kurt       Jensen    male   62    04/07/1959   \n",
       "1  5612835CHK      Joann     Woodward  female   39    11/11/1982   \n",
       "2  6313047ALD     Thomas      Belcher  female   44    25/12/1976   \n",
       "3  4216935AQI   Patricia  Cirrincione  female   39    22/08/1982   \n",
       "4  2765119WTR   Reginald         Fogg    male   54    11/09/1967   \n",
       "5  5863686WTY  Christina        Butts  female   62    11/08/1959   \n",
       "6  5170070JEI     Freida       Bailey  female   50    30/11/1971   \n",
       "7  8127770BEB     Gloria       Twyman  female   30    18/02/1991   \n",
       "8  9980683KSC     Robert   Turnipseed    male   64    04/12/1957   \n",
       "9  9830617VWN      Sarah       Torres  female   41    03/02/1980   \n",
       "\n",
       "   Years of experience  Education Level                   Country Performance  \\\n",
       "0                   10           master  Republic of South Africa          94   \n",
       "1                    9  upper secondary                     Italy           C   \n",
       "2                   17        technical                       USA          89   \n",
       "3                   13           master                    Brazil           C   \n",
       "4                   21        doctorate                    Sweden           B   \n",
       "5                   23         bachelor                     Malta          24   \n",
       "6                   24        technical                    France          11   \n",
       "7                    0        technical                   Romania          55   \n",
       "8                   17           master                   Belgium          50   \n",
       "9                   15        technical                     Malta           E   \n",
       "\n",
       "   ... Machining Welding Additive Painting Control Quality Planning Services  \\\n",
       "0  ...       YES     YES      YES       NO      NO      NO      YES       NO   \n",
       "1  ...       YES      NO       NO       NO      NO      NO      YES       NO   \n",
       "2  ...        NO     YES      YES      YES     YES      NO      YES      YES   \n",
       "3  ...       YES     YES      YES       NO      NO     YES      YES      YES   \n",
       "4  ...        NO     YES       NO       NO      NO     YES       NO      YES   \n",
       "5  ...        NO     YES      YES       NO      NO     YES      YES       NO   \n",
       "6  ...       YES     YES      YES      YES      NO      NO      YES       NO   \n",
       "7  ...        NO     YES      YES       NO      NO      NO       NO       NO   \n",
       "8  ...        NO     YES       NO       NO     YES      NO       NO      YES   \n",
       "9  ...        NO      NO       NO      YES      NO     YES       NO      YES   \n",
       "\n",
       "  Shipping spoken languages  \n",
       "0       NO  EN,SP,NL,GE,IT,  \n",
       "1      YES      EN,F,NL,GE,  \n",
       "2       NO        NL,GE,IT,  \n",
       "3      YES   EN,F,NL,GE,IT,  \n",
       "4       NO            F,SP,  \n",
       "5      YES           NL,IT,  \n",
       "6      YES      F,NL,GE,IT,  \n",
       "7       NO           NL,GE,  \n",
       "8       NO               F,  \n",
       "9      YES           EN,SP,  \n",
       "\n",
       "[10 rows x 21 columns]"
      ]
     },
     "execution_count": 18,
     "metadata": {},
     "output_type": "execute_result"
    }
   ],
   "source": [
    "employeeData.head(10)"
   ]
  },
  {
   "cell_type": "code",
   "execution_count": 22,
   "id": "294cf71c",
   "metadata": {},
   "outputs": [
    {
     "name": "stdout",
     "output_type": "stream",
     "text": [
      "<class 'pandas.core.frame.DataFrame'>\n",
      "RangeIndex: 1000 entries, 0 to 999\n",
      "Data columns (total 21 columns):\n",
      " #   Column               Non-Null Count  Dtype \n",
      "---  ------               --------------  ----- \n",
      " 0   RecID                1000 non-null   object\n",
      " 1   First Name           1000 non-null   object\n",
      " 2   Surname              1000 non-null   object\n",
      " 3   Gender               1000 non-null   object\n",
      " 4   Age                  1000 non-null   int64 \n",
      " 5   Date of birth        1000 non-null   object\n",
      " 6   Years of experience  1000 non-null   int64 \n",
      " 7   Education Level      1000 non-null   object\n",
      " 8   Country              1000 non-null   object\n",
      " 9   Performance          1000 non-null   object\n",
      " 10  Assembly             1000 non-null   object\n",
      " 11  Machining            1000 non-null   object\n",
      " 12  Welding              1000 non-null   object\n",
      " 13  Additive             1000 non-null   object\n",
      " 14  Painting             1000 non-null   object\n",
      " 15  Control              1000 non-null   object\n",
      " 16  Quality              1000 non-null   object\n",
      " 17  Planning             1000 non-null   object\n",
      " 18  Services             1000 non-null   object\n",
      " 19  Shipping             1000 non-null   object\n",
      " 20  spoken languages     985 non-null    object\n",
      "dtypes: int64(2), object(19)\n",
      "memory usage: 164.2+ KB\n"
     ]
    }
   ],
   "source": [
    "# dtype should be in accordance with data input; e.g. Age - int64, Date of birth - date\n",
    "employeeData.info()"
   ]
  },
  {
   "cell_type": "code",
   "execution_count": 20,
   "id": "a4efd8fa",
   "metadata": {},
   "outputs": [
    {
     "data": {
      "text/plain": [
       "count    1000.000000\n",
       "mean       10.630000\n",
       "std         9.605695\n",
       "min        -1.000000\n",
       "25%         2.000000\n",
       "50%         9.000000\n",
       "75%        18.000000\n",
       "max        35.000000\n",
       "Name: Years of experience, dtype: float64"
      ]
     },
     "execution_count": 20,
     "metadata": {},
     "output_type": "execute_result"
    }
   ],
   "source": [
    "# check no negative values, no values look out of the norm \n",
    "employeeData['Years of experience'].describe()"
   ]
  },
  {
   "cell_type": "code",
   "execution_count": 21,
   "id": "c37e1b73",
   "metadata": {},
   "outputs": [
    {
     "data": {
      "text/plain": [
       "count    1000.000000\n",
       "mean       43.254000\n",
       "std        14.031121\n",
       "min        18.000000\n",
       "25%        31.000000\n",
       "50%        43.000000\n",
       "75%        55.000000\n",
       "max        67.000000\n",
       "Name: Age, dtype: float64"
      ]
     },
     "execution_count": 21,
     "metadata": {},
     "output_type": "execute_result"
    }
   ],
   "source": [
    "# should be between 18 and 67 \n",
    "employeeData['Age'].describe()"
   ]
  },
  {
   "cell_type": "code",
   "execution_count": 171,
   "id": "43ed55cc",
   "metadata": {},
   "outputs": [
    {
     "data": {
      "text/plain": [
       "A     110\n",
       "E     108\n",
       "D      99\n",
       "C      98\n",
       "B      81\n",
       "     ... \n",
       "18      2\n",
       "75      2\n",
       "96      2\n",
       "35      1\n",
       "51      1\n",
       "Name: Performance, Length: 105, dtype: int64"
      ]
     },
     "execution_count": 171,
     "metadata": {},
     "output_type": "execute_result"
    }
   ],
   "source": [
    "# should be between A-F; however we have 105 unique values. Perfromance uses different scales (half use an alphabetic scale) \n",
    "employeeData['Performance'].describe()\n",
    "employeeData['Performance'].unique()\n",
    "employeeData['Performance'].value_counts()"
   ]
  },
  {
   "cell_type": "code",
   "execution_count": 25,
   "id": "90a742df",
   "metadata": {},
   "outputs": [
    {
     "data": {
      "text/plain": [
       "count             985\n",
       "unique             63\n",
       "top       F,SP,NL,IT,\n",
       "freq               23\n",
       "Name: spoken languages, dtype: object"
      ]
     },
     "execution_count": 25,
     "metadata": {},
     "output_type": "execute_result"
    }
   ],
   "source": [
    "# naming should be consistent\n",
    "# needs further work for a propoer analysis as differnt languages are listed and are therefore difficult to analyze\n",
    "employeeData['spoken languages'].describe()"
   ]
  },
  {
   "cell_type": "code",
   "execution_count": 28,
   "id": "e13cda5f",
   "metadata": {},
   "outputs": [
    {
     "data": {
      "text/plain": [
       "array(['master', 'upper secondary', 'technical', 'doctorate', 'bachelor'],\n",
       "      dtype=object)"
      ]
     },
     "execution_count": 28,
     "metadata": {},
     "output_type": "execute_result"
    }
   ],
   "source": [
    "# check different levels of education level and consistency in naming\n",
    "employeeData['Education Level'].describe() \n",
    "employeeData['Education Level'].unique() "
   ]
  },
  {
   "cell_type": "code",
   "execution_count": 30,
   "id": "743bc2f7",
   "metadata": {},
   "outputs": [
    {
     "data": {
      "text/plain": [
       "array(['Republic of South Africa', 'Italy', 'USA', 'Brazil', 'Sweden',\n",
       "       'Malta', 'France', 'Romania', 'Belgium', 'Slovakia', 'Luxembourg',\n",
       "       'Ireland', 'Republic of Cyprus', 'Finland', 'Austria', 'Poland',\n",
       "       'Latvia', 'Hungary', 'Estonia', 'Slovenia', 'Czech Republic',\n",
       "       'China', 'Germany', 'Denmark', 'Bulgaria', 'Portugal', 'Lithuania',\n",
       "       'Greece', 'Australia', 'Spain', 'Netherlands', 'Republic of Congo',\n",
       "       'United Kingdom', 'Croatia'], dtype=object)"
      ]
     },
     "execution_count": 30,
     "metadata": {},
     "output_type": "execute_result"
    }
   ],
   "source": [
    "# check different countries of origin and consistency in naming\n",
    "employeeData['Country'].describe() \n",
    "employeeData['Country'].unique() "
   ]
  },
  {
   "cell_type": "markdown",
   "id": "7ed8a1b2",
   "metadata": {},
   "source": [
    "## Step 2: Data cleaning \n",
    "From the previous steps; we see that: \n",
    "  1. some candidates have not added their spoken languages*, and \n",
    "  2. the label for the attibute \"spoken languages\" is inconsisten with the rest (lower case) \n",
    "\n",
    "*_As there is a min. requirement for this attribute, all NaNs can be removed. The column name will also be changed._\n",
    "\n",
    "Other changes needed before we start the data analysis include:\n",
    " - Changing \"Date of birth\" Dtype to DateTime\n",
    " - Adding the needed column for \"Intended department\"\n",
    " - Removing negative values from \"Years of experience\"\n",
    " - Converting all \"Performance levels\" to one scale\n",
    " - EU countries need to be grouped for further filtering "
   ]
  },
  {
   "cell_type": "code",
   "execution_count": 195,
   "id": "d12e0535",
   "metadata": {},
   "outputs": [],
   "source": [
    "# remove NaNs \n",
    "df = employeeData.dropna()"
   ]
  },
  {
   "cell_type": "code",
   "execution_count": 196,
   "id": "e15aa180",
   "metadata": {},
   "outputs": [],
   "source": [
    "# changing of column names, adding \"Intended department\", changing Dtype\n",
    "df = df.rename(columns={'spoken languages':'Spoken languages'})\n",
    "df['Date of birth'] = pd.to_datetime(df['Date of birth'])\n",
    "df['Intended department'] = np.nan"
   ]
  },
  {
   "cell_type": "code",
   "execution_count": 197,
   "id": "ae26a9c6",
   "metadata": {},
   "outputs": [
    {
     "name": "stdout",
     "output_type": "stream",
     "text": [
      "<class 'pandas.core.frame.DataFrame'>\n",
      "Int64Index: 985 entries, 0 to 999\n",
      "Data columns (total 22 columns):\n",
      " #   Column               Non-Null Count  Dtype         \n",
      "---  ------               --------------  -----         \n",
      " 0   RecID                985 non-null    object        \n",
      " 1   First Name           985 non-null    object        \n",
      " 2   Surname              985 non-null    object        \n",
      " 3   Gender               985 non-null    object        \n",
      " 4   Age                  985 non-null    int64         \n",
      " 5   Date of birth        985 non-null    datetime64[ns]\n",
      " 6   Years of experience  985 non-null    int64         \n",
      " 7   Education Level      985 non-null    object        \n",
      " 8   Country              985 non-null    object        \n",
      " 9   Performance          985 non-null    object        \n",
      " 10  Assembly             985 non-null    object        \n",
      " 11  Machining            985 non-null    object        \n",
      " 12  Welding              985 non-null    object        \n",
      " 13  Additive             985 non-null    object        \n",
      " 14  Painting             985 non-null    object        \n",
      " 15  Control              985 non-null    object        \n",
      " 16  Quality              985 non-null    object        \n",
      " 17  Planning             985 non-null    object        \n",
      " 18  Services             985 non-null    object        \n",
      " 19  Shipping             985 non-null    object        \n",
      " 20  Spoken languages     985 non-null    object        \n",
      " 21  Intended department  0 non-null      float64       \n",
      "dtypes: datetime64[ns](1), float64(1), int64(2), object(18)\n",
      "memory usage: 177.0+ KB\n"
     ]
    }
   ],
   "source": [
    "# check changes are correct\n",
    "df.info()"
   ]
  },
  {
   "cell_type": "code",
   "execution_count": 198,
   "id": "382a0890",
   "metadata": {},
   "outputs": [
    {
     "name": "stderr",
     "output_type": "stream",
     "text": [
      "C:\\Users\\fabia\\AppData\\Local\\Temp/ipykernel_14488/4051816357.py:2: FutureWarning: Treating datetime data as categorical rather than numeric in `.describe` is deprecated and will be removed in a future version of pandas. Specify `datetime_is_numeric=True` to silence this warning and adopt the future behavior now.\n",
      "  df['Date of birth'].describe()\n"
     ]
    },
    {
     "data": {
      "text/plain": [
       "count                     985\n",
       "unique                    964\n",
       "top       1957-04-21 00:00:00\n",
       "freq                        2\n",
       "first     1954-02-28 00:00:00\n",
       "last      2003-12-10 00:00:00\n",
       "Name: Date of birth, dtype: object"
      ]
     },
     "execution_count": 198,
     "metadata": {},
     "output_type": "execute_result"
    }
   ],
   "source": [
    "# Check for correct input/ no unnusual answers\n",
    "df['Date of birth'].describe()"
   ]
  },
  {
   "cell_type": "code",
   "execution_count": 199,
   "id": "1a7c8e6e",
   "metadata": {},
   "outputs": [],
   "source": [
    "#  Removing negative values from Years of experience\n",
    "df['Years of experience']=df['Years of experience'].clip(lower=0)"
   ]
  },
  {
   "cell_type": "code",
   "execution_count": 200,
   "id": "8acfe695",
   "metadata": {},
   "outputs": [],
   "source": [
    "# Converting all Performance levels to one scale\n",
    "# As the grades following the alphabetical scale offer less information than the numerical scaling, \n",
    "# the alphabetical scale will be kept to avoid creating missleading data points \n",
    "df = df.replace({'Performance' : { 'A' : 95, 'B' : 85, 'C' : 75 , 'D' : 65 , 'E' : 55}})"
   ]
  },
  {
   "cell_type": "code",
   "execution_count": 201,
   "id": "e7ba0406",
   "metadata": {},
   "outputs": [],
   "source": [
    "df['Performance'] = pd.to_numeric(df['Performance'])\n",
    "Grade = pd.cut(df.Performance, bins=[0,60,70,80,90,100], labels=['E','D','C','B','A'])"
   ]
  },
  {
   "cell_type": "code",
   "execution_count": 202,
   "id": "0a218589",
   "metadata": {},
   "outputs": [],
   "source": [
    "df.insert(9,'Grade', Grade)"
   ]
  },
  {
   "cell_type": "code",
   "execution_count": 203,
   "id": "fd84c847",
   "metadata": {},
   "outputs": [
    {
     "data": {
      "text/plain": [
       "count     978\n",
       "unique      5\n",
       "top         E\n",
       "freq      398\n",
       "Name: Grade, dtype: object"
      ]
     },
     "execution_count": 203,
     "metadata": {},
     "output_type": "execute_result"
    }
   ],
   "source": [
    "df['Grade'].describe()"
   ]
  },
  {
   "cell_type": "code",
   "execution_count": 204,
   "id": "c750c2ec",
   "metadata": {},
   "outputs": [],
   "source": [
    "# EU countries need to be grouped for further filtering \n",
    "lst = EUROPEAN_UNION.names\n",
    "c = lambda x: 'EU' if x in lst else x\n",
    "df['Country'] = df['Country'].map(c)"
   ]
  },
  {
   "cell_type": "code",
   "execution_count": 205,
   "id": "4228adbe",
   "metadata": {},
   "outputs": [
    {
     "data": {
      "text/html": [
       "<div>\n",
       "<style scoped>\n",
       "    .dataframe tbody tr th:only-of-type {\n",
       "        vertical-align: middle;\n",
       "    }\n",
       "\n",
       "    .dataframe tbody tr th {\n",
       "        vertical-align: top;\n",
       "    }\n",
       "\n",
       "    .dataframe thead th {\n",
       "        text-align: right;\n",
       "    }\n",
       "</style>\n",
       "<table border=\"1\" class=\"dataframe\">\n",
       "  <thead>\n",
       "    <tr style=\"text-align: right;\">\n",
       "      <th></th>\n",
       "      <th>RecID</th>\n",
       "      <th>First Name</th>\n",
       "      <th>Surname</th>\n",
       "      <th>Gender</th>\n",
       "      <th>Age</th>\n",
       "      <th>Date of birth</th>\n",
       "      <th>Years of experience</th>\n",
       "      <th>Education Level</th>\n",
       "      <th>Country</th>\n",
       "      <th>Grade</th>\n",
       "      <th>...</th>\n",
       "      <th>Welding</th>\n",
       "      <th>Additive</th>\n",
       "      <th>Painting</th>\n",
       "      <th>Control</th>\n",
       "      <th>Quality</th>\n",
       "      <th>Planning</th>\n",
       "      <th>Services</th>\n",
       "      <th>Shipping</th>\n",
       "      <th>Spoken languages</th>\n",
       "      <th>Intended department</th>\n",
       "    </tr>\n",
       "  </thead>\n",
       "  <tbody>\n",
       "    <tr>\n",
       "      <th>0</th>\n",
       "      <td>0660900YMA</td>\n",
       "      <td>Kurt</td>\n",
       "      <td>Jensen</td>\n",
       "      <td>male</td>\n",
       "      <td>62</td>\n",
       "      <td>1959-04-07</td>\n",
       "      <td>10</td>\n",
       "      <td>master</td>\n",
       "      <td>Republic of South Africa</td>\n",
       "      <td>A</td>\n",
       "      <td>...</td>\n",
       "      <td>YES</td>\n",
       "      <td>YES</td>\n",
       "      <td>NO</td>\n",
       "      <td>NO</td>\n",
       "      <td>NO</td>\n",
       "      <td>YES</td>\n",
       "      <td>NO</td>\n",
       "      <td>NO</td>\n",
       "      <td>EN,SP,NL,GE,IT,</td>\n",
       "      <td>NaN</td>\n",
       "    </tr>\n",
       "    <tr>\n",
       "      <th>1</th>\n",
       "      <td>5612835CHK</td>\n",
       "      <td>Joann</td>\n",
       "      <td>Woodward</td>\n",
       "      <td>female</td>\n",
       "      <td>39</td>\n",
       "      <td>1982-11-11</td>\n",
       "      <td>9</td>\n",
       "      <td>upper secondary</td>\n",
       "      <td>EU</td>\n",
       "      <td>C</td>\n",
       "      <td>...</td>\n",
       "      <td>NO</td>\n",
       "      <td>NO</td>\n",
       "      <td>NO</td>\n",
       "      <td>NO</td>\n",
       "      <td>NO</td>\n",
       "      <td>YES</td>\n",
       "      <td>NO</td>\n",
       "      <td>YES</td>\n",
       "      <td>EN,F,NL,GE,</td>\n",
       "      <td>NaN</td>\n",
       "    </tr>\n",
       "    <tr>\n",
       "      <th>2</th>\n",
       "      <td>6313047ALD</td>\n",
       "      <td>Thomas</td>\n",
       "      <td>Belcher</td>\n",
       "      <td>female</td>\n",
       "      <td>44</td>\n",
       "      <td>1976-12-25</td>\n",
       "      <td>17</td>\n",
       "      <td>technical</td>\n",
       "      <td>USA</td>\n",
       "      <td>B</td>\n",
       "      <td>...</td>\n",
       "      <td>YES</td>\n",
       "      <td>YES</td>\n",
       "      <td>YES</td>\n",
       "      <td>YES</td>\n",
       "      <td>NO</td>\n",
       "      <td>YES</td>\n",
       "      <td>YES</td>\n",
       "      <td>NO</td>\n",
       "      <td>NL,GE,IT,</td>\n",
       "      <td>NaN</td>\n",
       "    </tr>\n",
       "    <tr>\n",
       "      <th>3</th>\n",
       "      <td>4216935AQI</td>\n",
       "      <td>Patricia</td>\n",
       "      <td>Cirrincione</td>\n",
       "      <td>female</td>\n",
       "      <td>39</td>\n",
       "      <td>1982-08-22</td>\n",
       "      <td>13</td>\n",
       "      <td>master</td>\n",
       "      <td>Brazil</td>\n",
       "      <td>C</td>\n",
       "      <td>...</td>\n",
       "      <td>YES</td>\n",
       "      <td>YES</td>\n",
       "      <td>NO</td>\n",
       "      <td>NO</td>\n",
       "      <td>YES</td>\n",
       "      <td>YES</td>\n",
       "      <td>YES</td>\n",
       "      <td>YES</td>\n",
       "      <td>EN,F,NL,GE,IT,</td>\n",
       "      <td>NaN</td>\n",
       "    </tr>\n",
       "    <tr>\n",
       "      <th>4</th>\n",
       "      <td>2765119WTR</td>\n",
       "      <td>Reginald</td>\n",
       "      <td>Fogg</td>\n",
       "      <td>male</td>\n",
       "      <td>54</td>\n",
       "      <td>1967-11-09</td>\n",
       "      <td>21</td>\n",
       "      <td>doctorate</td>\n",
       "      <td>EU</td>\n",
       "      <td>B</td>\n",
       "      <td>...</td>\n",
       "      <td>YES</td>\n",
       "      <td>NO</td>\n",
       "      <td>NO</td>\n",
       "      <td>NO</td>\n",
       "      <td>YES</td>\n",
       "      <td>NO</td>\n",
       "      <td>YES</td>\n",
       "      <td>NO</td>\n",
       "      <td>F,SP,</td>\n",
       "      <td>NaN</td>\n",
       "    </tr>\n",
       "  </tbody>\n",
       "</table>\n",
       "<p>5 rows × 23 columns</p>\n",
       "</div>"
      ],
      "text/plain": [
       "        RecID First Name      Surname  Gender  Age Date of birth  \\\n",
       "0  0660900YMA       Kurt       Jensen    male   62    1959-04-07   \n",
       "1  5612835CHK      Joann     Woodward  female   39    1982-11-11   \n",
       "2  6313047ALD     Thomas      Belcher  female   44    1976-12-25   \n",
       "3  4216935AQI   Patricia  Cirrincione  female   39    1982-08-22   \n",
       "4  2765119WTR   Reginald         Fogg    male   54    1967-11-09   \n",
       "\n",
       "   Years of experience  Education Level                   Country Grade  ...  \\\n",
       "0                   10           master  Republic of South Africa     A  ...   \n",
       "1                    9  upper secondary                        EU     C  ...   \n",
       "2                   17        technical                       USA     B  ...   \n",
       "3                   13           master                    Brazil     C  ...   \n",
       "4                   21        doctorate                        EU     B  ...   \n",
       "\n",
       "   Welding Additive Painting Control Quality Planning Services Shipping  \\\n",
       "0      YES      YES       NO      NO      NO      YES       NO       NO   \n",
       "1       NO       NO       NO      NO      NO      YES       NO      YES   \n",
       "2      YES      YES      YES     YES      NO      YES      YES       NO   \n",
       "3      YES      YES       NO      NO     YES      YES      YES      YES   \n",
       "4      YES       NO       NO      NO     YES       NO      YES       NO   \n",
       "\n",
       "  Spoken languages Intended department  \n",
       "0  EN,SP,NL,GE,IT,                 NaN  \n",
       "1      EN,F,NL,GE,                 NaN  \n",
       "2        NL,GE,IT,                 NaN  \n",
       "3   EN,F,NL,GE,IT,                 NaN  \n",
       "4            F,SP,                 NaN  \n",
       "\n",
       "[5 rows x 23 columns]"
      ]
     },
     "execution_count": 205,
     "metadata": {},
     "output_type": "execute_result"
    }
   ],
   "source": [
    "# check changes are correct\n",
    "df.head()"
   ]
  },
  {
   "cell_type": "markdown",
   "id": "758858c5",
   "metadata": {},
   "source": [
    "## Step 3: Data analysis \n",
    "As described in the introduction, the data needs to be filtered to find the possible candidates. \n",
    "\n",
    "Prospective employees should be from the European Union, Norway, and the  UK. \n",
    "3. Specifically, you are required to select employees for:  \n",
    "    1. The finance department\n",
    "    2. with skills at least in Planning \n",
    "    3. a minimum of 4 years  experience\n",
    "    4. Spoken language should be three out of Dutch, English, French, Spanish, and  Dutch\n",
    "    5. Employees should not be at the lowest two tiers of performance.\n"
   ]
  },
  {
   "cell_type": "code",
   "execution_count": 206,
   "id": "e744506b",
   "metadata": {},
   "outputs": [],
   "source": [
    "# Prospective employees should be from the European Union, Norway, and the  UK.\n",
    "lst_countries = ['EU', 'United Kingdom', \"Norway\"]\n",
    "df_filtered = df[df['Country'].isin(lst_countries)]"
   ]
  },
  {
   "cell_type": "code",
   "execution_count": null,
   "id": "2a25dc18",
   "metadata": {},
   "outputs": [],
   "source": [
    "# check for correct filtering\n",
    "df_filtered['Country'].unique()"
   ]
  },
  {
   "cell_type": "code",
   "execution_count": 216,
   "id": "d6299c89",
   "metadata": {},
   "outputs": [],
   "source": [
    "# Skills in at least planning \n",
    "df_filtered = df_filtered[df_filtered['Planning']==\"YES\"]"
   ]
  },
  {
   "cell_type": "code",
   "execution_count": 217,
   "id": "e64963fc",
   "metadata": {},
   "outputs": [
    {
     "data": {
      "text/plain": [
       "array(['YES'], dtype=object)"
      ]
     },
     "execution_count": 217,
     "metadata": {},
     "output_type": "execute_result"
    }
   ],
   "source": [
    "\n",
    "df_filtered['Planning'].unique()"
   ]
  },
  {
   "cell_type": "code",
   "execution_count": 222,
   "id": "5e1d470b",
   "metadata": {},
   "outputs": [],
   "source": [
    "# 4 or more years experience\n",
    "df_filtered = df_filtered[df_filtered['Years of experience'] >= 4]"
   ]
  },
  {
   "cell_type": "code",
   "execution_count": 223,
   "id": "0bd0f6b7",
   "metadata": {},
   "outputs": [
    {
     "data": {
      "text/plain": [
       "count    256.000000\n",
       "mean      14.878906\n",
       "std        8.284464\n",
       "min        4.000000\n",
       "25%        8.000000\n",
       "50%       13.000000\n",
       "75%       21.000000\n",
       "max       34.000000\n",
       "Name: Years of experience, dtype: float64"
      ]
     },
     "execution_count": 223,
     "metadata": {},
     "output_type": "execute_result"
    }
   ],
   "source": [
    "# check \n",
    "df_filtered['Years of experience'].describe()"
   ]
  },
  {
   "cell_type": "code",
   "execution_count": null,
   "id": "124eacea",
   "metadata": {},
   "outputs": [],
   "source": [
    "# Language - min 3 - out of Dutch, English, French, Spanish"
   ]
  },
  {
   "cell_type": "code",
   "execution_count": null,
   "id": "0e4a10aa",
   "metadata": {},
   "outputs": [],
   "source": [
    "# Upper 1/3 of Performance ()\n"
   ]
  }
 ],
 "metadata": {
  "kernelspec": {
   "display_name": "Python 3 (ipykernel)",
   "language": "python",
   "name": "python3"
  },
  "language_info": {
   "codemirror_mode": {
    "name": "ipython",
    "version": 3
   },
   "file_extension": ".py",
   "mimetype": "text/x-python",
   "name": "python",
   "nbconvert_exporter": "python",
   "pygments_lexer": "ipython3",
   "version": "3.9.7"
  }
 },
 "nbformat": 4,
 "nbformat_minor": 5
}
